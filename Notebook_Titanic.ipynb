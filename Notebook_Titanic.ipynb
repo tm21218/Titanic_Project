{
 "cells": [
  {
   "cell_type": "markdown",
   "metadata": {},
   "source": [
    "# Titanic - Kaggle Challenge"
   ]
  },
  {
   "cell_type": "code",
   "execution_count": 1,
   "metadata": {},
   "outputs": [],
   "source": [
    "import pandas as pd\n",
    "import numpy as np\n",
    "import matplotlib\n",
    "import matplotlib.pyplot as plt\n",
    "import seaborn as sns\n",
    "from datetime import datetime\n",
    "from scipy import stats\n",
    "import pickle\n",
    "%matplotlib inline"
   ]
  },
  {
   "cell_type": "code",
   "execution_count": 2,
   "metadata": {},
   "outputs": [],
   "source": [
    "pd.options.display.max_columns = None"
   ]
  },
  {
   "cell_type": "code",
   "execution_count": 3,
   "metadata": {},
   "outputs": [],
   "source": [
    "df_train=pd.read_csv('./titanic/train.csv')\n",
    "df_train.set_index('PassengerId', inplace=True)"
   ]
  },
  {
   "cell_type": "code",
   "execution_count": 4,
   "metadata": {},
   "outputs": [],
   "source": [
    "df_test=pd.read_csv('./titanic/test.csv')\n",
    "df_test.set_index('PassengerId', inplace=True)"
   ]
  },
  {
   "cell_type": "code",
   "execution_count": 5,
   "metadata": {},
   "outputs": [],
   "source": [
    "df=pd.concat([df_train, df_test])"
   ]
  },
  {
   "cell_type": "markdown",
   "metadata": {},
   "source": [
    "## First glance to the data"
   ]
  },
  {
   "cell_type": "code",
   "execution_count": 6,
   "metadata": {},
   "outputs": [
    {
     "data": {
      "text/plain": [
       "(1309, 11)"
      ]
     },
     "execution_count": 6,
     "metadata": {},
     "output_type": "execute_result"
    }
   ],
   "source": [
    "df.shape"
   ]
  },
  {
   "cell_type": "code",
   "execution_count": 7,
   "metadata": {},
   "outputs": [
    {
     "data": {
      "text/html": [
       "<div>\n",
       "<style scoped>\n",
       "    .dataframe tbody tr th:only-of-type {\n",
       "        vertical-align: middle;\n",
       "    }\n",
       "\n",
       "    .dataframe tbody tr th {\n",
       "        vertical-align: top;\n",
       "    }\n",
       "\n",
       "    .dataframe thead th {\n",
       "        text-align: right;\n",
       "    }\n",
       "</style>\n",
       "<table border=\"1\" class=\"dataframe\">\n",
       "  <thead>\n",
       "    <tr style=\"text-align: right;\">\n",
       "      <th></th>\n",
       "      <th>Survived</th>\n",
       "      <th>Pclass</th>\n",
       "      <th>Name</th>\n",
       "      <th>Sex</th>\n",
       "      <th>Age</th>\n",
       "      <th>SibSp</th>\n",
       "      <th>Parch</th>\n",
       "      <th>Ticket</th>\n",
       "      <th>Fare</th>\n",
       "      <th>Cabin</th>\n",
       "      <th>Embarked</th>\n",
       "    </tr>\n",
       "    <tr>\n",
       "      <th>PassengerId</th>\n",
       "      <th></th>\n",
       "      <th></th>\n",
       "      <th></th>\n",
       "      <th></th>\n",
       "      <th></th>\n",
       "      <th></th>\n",
       "      <th></th>\n",
       "      <th></th>\n",
       "      <th></th>\n",
       "      <th></th>\n",
       "      <th></th>\n",
       "    </tr>\n",
       "  </thead>\n",
       "  <tbody>\n",
       "    <tr>\n",
       "      <th>1</th>\n",
       "      <td>0.0</td>\n",
       "      <td>3</td>\n",
       "      <td>Braund, Mr. Owen Harris</td>\n",
       "      <td>male</td>\n",
       "      <td>22.0</td>\n",
       "      <td>1</td>\n",
       "      <td>0</td>\n",
       "      <td>A/5 21171</td>\n",
       "      <td>7.2500</td>\n",
       "      <td>NaN</td>\n",
       "      <td>S</td>\n",
       "    </tr>\n",
       "    <tr>\n",
       "      <th>2</th>\n",
       "      <td>1.0</td>\n",
       "      <td>1</td>\n",
       "      <td>Cumings, Mrs. John Bradley (Florence Briggs Th...</td>\n",
       "      <td>female</td>\n",
       "      <td>38.0</td>\n",
       "      <td>1</td>\n",
       "      <td>0</td>\n",
       "      <td>PC 17599</td>\n",
       "      <td>71.2833</td>\n",
       "      <td>C85</td>\n",
       "      <td>C</td>\n",
       "    </tr>\n",
       "    <tr>\n",
       "      <th>3</th>\n",
       "      <td>1.0</td>\n",
       "      <td>3</td>\n",
       "      <td>Heikkinen, Miss. Laina</td>\n",
       "      <td>female</td>\n",
       "      <td>26.0</td>\n",
       "      <td>0</td>\n",
       "      <td>0</td>\n",
       "      <td>STON/O2. 3101282</td>\n",
       "      <td>7.9250</td>\n",
       "      <td>NaN</td>\n",
       "      <td>S</td>\n",
       "    </tr>\n",
       "    <tr>\n",
       "      <th>4</th>\n",
       "      <td>1.0</td>\n",
       "      <td>1</td>\n",
       "      <td>Futrelle, Mrs. Jacques Heath (Lily May Peel)</td>\n",
       "      <td>female</td>\n",
       "      <td>35.0</td>\n",
       "      <td>1</td>\n",
       "      <td>0</td>\n",
       "      <td>113803</td>\n",
       "      <td>53.1000</td>\n",
       "      <td>C123</td>\n",
       "      <td>S</td>\n",
       "    </tr>\n",
       "    <tr>\n",
       "      <th>5</th>\n",
       "      <td>0.0</td>\n",
       "      <td>3</td>\n",
       "      <td>Allen, Mr. William Henry</td>\n",
       "      <td>male</td>\n",
       "      <td>35.0</td>\n",
       "      <td>0</td>\n",
       "      <td>0</td>\n",
       "      <td>373450</td>\n",
       "      <td>8.0500</td>\n",
       "      <td>NaN</td>\n",
       "      <td>S</td>\n",
       "    </tr>\n",
       "  </tbody>\n",
       "</table>\n",
       "</div>"
      ],
      "text/plain": [
       "             Survived  Pclass  \\\n",
       "PassengerId                     \n",
       "1                 0.0       3   \n",
       "2                 1.0       1   \n",
       "3                 1.0       3   \n",
       "4                 1.0       1   \n",
       "5                 0.0       3   \n",
       "\n",
       "                                                          Name     Sex   Age  \\\n",
       "PassengerId                                                                    \n",
       "1                                      Braund, Mr. Owen Harris    male  22.0   \n",
       "2            Cumings, Mrs. John Bradley (Florence Briggs Th...  female  38.0   \n",
       "3                                       Heikkinen, Miss. Laina  female  26.0   \n",
       "4                 Futrelle, Mrs. Jacques Heath (Lily May Peel)  female  35.0   \n",
       "5                                     Allen, Mr. William Henry    male  35.0   \n",
       "\n",
       "             SibSp  Parch            Ticket     Fare Cabin Embarked  \n",
       "PassengerId                                                          \n",
       "1                1      0         A/5 21171   7.2500   NaN        S  \n",
       "2                1      0          PC 17599  71.2833   C85        C  \n",
       "3                0      0  STON/O2. 3101282   7.9250   NaN        S  \n",
       "4                1      0            113803  53.1000  C123        S  \n",
       "5                0      0            373450   8.0500   NaN        S  "
      ]
     },
     "execution_count": 7,
     "metadata": {},
     "output_type": "execute_result"
    }
   ],
   "source": [
    "df.head()"
   ]
  },
  {
   "cell_type": "code",
   "execution_count": 8,
   "metadata": {},
   "outputs": [
    {
     "data": {
      "text/plain": [
       "Survived    float64\n",
       "Pclass        int64\n",
       "Name         object\n",
       "Sex          object\n",
       "Age         float64\n",
       "SibSp         int64\n",
       "Parch         int64\n",
       "Ticket       object\n",
       "Fare        float64\n",
       "Cabin        object\n",
       "Embarked     object\n",
       "dtype: object"
      ]
     },
     "execution_count": 8,
     "metadata": {},
     "output_type": "execute_result"
    }
   ],
   "source": [
    "df.dtypes"
   ]
  },
  {
   "cell_type": "code",
   "execution_count": 9,
   "metadata": {},
   "outputs": [
    {
     "name": "stdout",
     "output_type": "stream",
     "text": [
      "<class 'pandas.core.frame.DataFrame'>\n",
      "Int64Index: 1309 entries, 1 to 1309\n",
      "Data columns (total 11 columns):\n",
      " #   Column    Non-Null Count  Dtype  \n",
      "---  ------    --------------  -----  \n",
      " 0   Survived  891 non-null    float64\n",
      " 1   Pclass    1309 non-null   int64  \n",
      " 2   Name      1309 non-null   object \n",
      " 3   Sex       1309 non-null   object \n",
      " 4   Age       1046 non-null   float64\n",
      " 5   SibSp     1309 non-null   int64  \n",
      " 6   Parch     1309 non-null   int64  \n",
      " 7   Ticket    1309 non-null   object \n",
      " 8   Fare      1308 non-null   float64\n",
      " 9   Cabin     295 non-null    object \n",
      " 10  Embarked  1307 non-null   object \n",
      "dtypes: float64(3), int64(3), object(5)\n",
      "memory usage: 122.7+ KB\n"
     ]
    }
   ],
   "source": [
    "df.info()"
   ]
  },
  {
   "cell_type": "markdown",
   "metadata": {},
   "source": [
    "### Looking to the features"
   ]
  },
  {
   "cell_type": "code",
   "execution_count": 10,
   "metadata": {},
   "outputs": [],
   "source": [
    "df_analyses=df_train.copy()"
   ]
  },
  {
   "cell_type": "markdown",
   "metadata": {},
   "source": [
    "#### Survived"
   ]
  },
  {
   "cell_type": "code",
   "execution_count": 11,
   "metadata": {},
   "outputs": [
    {
     "data": {
      "text/plain": [
       "0    549\n",
       "1    342\n",
       "Name: Survived, dtype: int64"
      ]
     },
     "execution_count": 11,
     "metadata": {},
     "output_type": "execute_result"
    }
   ],
   "source": [
    "df_analyses['Survived'].value_counts()"
   ]
  },
  {
   "cell_type": "code",
   "execution_count": 12,
   "metadata": {},
   "outputs": [
    {
     "data": {
      "image/png": "[encoded data removed]",
      "text/plain": [
       "<Figure size 360x216 with 1 Axes>"
      ]
     },
     "metadata": {
      "needs_background": "light"
     },
     "output_type": "display_data"
    }
   ],
   "source": [
    "fig, axs = plt.subplots(1,1, figsize=(5,3))\n",
    "df_analyses[['Survived']].plot(kind='hist', bins=2, range=(-0.5, 1.5), density=True, edgecolor='white', ax=axs)\n",
    "axs.set_xticks([0,1])\n",
    "axs.set_xticklabels([0,1])\n",
    "None"
   ]
  },
  {
   "cell_type": "markdown",
   "metadata": {},
   "source": [
    "#### Pclass"
   ]
  },
  {
   "cell_type": "code",
   "execution_count": 13,
   "metadata": {},
   "outputs": [
    {
     "data": {
      "text/plain": [
       "Pclass\n",
       "3         0.375095\n",
       "1         0.165011\n",
       "2         0.140565\n",
       "dtype: float64"
      ]
     },
     "execution_count": 13,
     "metadata": {},
     "output_type": "execute_result"
    }
   ],
   "source": [
    "df_analyses[['Pclass']].value_counts()/1309"
   ]
  },
  {
   "cell_type": "code",
   "execution_count": 14,
   "metadata": {},
   "outputs": [
    {
     "data": {
      "image/png": "[encoded data removed]",
      "text/plain": [
       "<Figure size 360x216 with 1 Axes>"
      ]
     },
     "metadata": {
      "needs_background": "light"
     },
     "output_type": "display_data"
    }
   ],
   "source": [
    "fig, axs = plt.subplots(1,1, figsize=(5,3))\n",
    "df_analyses[['Pclass', 'Survived']].groupby('Pclass').mean().plot(kind='bar', ax=axs)\n",
    "labels=axs.get_xticklabels()\n",
    "axs.set_xticklabels(labels, rotation=0)\n",
    "None"
   ]
  },
  {
   "cell_type": "markdown",
   "metadata": {},
   "source": [
    "Clearly, the `Pclass` seems to be a good predictor: the higher the class the more the chance to survive."
   ]
  },
  {
   "cell_type": "markdown",
   "metadata": {},
   "source": [
    "#### Name"
   ]
  },
  {
   "cell_type": "code",
   "execution_count": 15,
   "metadata": {},
   "outputs": [
    {
     "data": {
      "text/plain": [
       "PassengerId\n",
       "1        Mr.\n",
       "2       Mrs.\n",
       "3      Miss.\n",
       "4       Mrs.\n",
       "5        Mr.\n",
       "       ...  \n",
       "887     Rev.\n",
       "888    Miss.\n",
       "889    Miss.\n",
       "890      Mr.\n",
       "891      Mr.\n",
       "Name: Prefix, Length: 891, dtype: object"
      ]
     },
     "execution_count": 15,
     "metadata": {},
     "output_type": "execute_result"
    }
   ],
   "source": [
    "df_analyses['Prefix']=df_analyses['Name'].apply(lambda x: x.split(',')[1].split(' ')[1])\n",
    "df_analyses['Prefix']"
   ]
  },
  {
   "cell_type": "code",
   "execution_count": 16,
   "metadata": {},
   "outputs": [
    {
     "data": {
      "text/plain": [
       "PassengerId\n",
       "1           Mr.\n",
       "2          Mrs.\n",
       "3         Miss.\n",
       "4          Mrs.\n",
       "5           Mr.\n",
       "         ...   \n",
       "1305        Mr.\n",
       "1306      Dona.\n",
       "1307        Mr.\n",
       "1308        Mr.\n",
       "1309    Master.\n",
       "Name: Prefix, Length: 1309, dtype: object"
      ]
     },
     "execution_count": 16,
     "metadata": {},
     "output_type": "execute_result"
    }
   ],
   "source": [
    "df['Prefix']=df['Name'].apply(lambda x: x.split(',')[1].split(' ')[1])\n",
    "df['Prefix']"
   ]
  },
  {
   "cell_type": "code",
   "execution_count": 17,
   "metadata": {},
   "outputs": [
    {
     "data": {
      "text/plain": [
       "Mr.          757\n",
       "Miss.        260\n",
       "Mrs.         197\n",
       "Master.       61\n",
       "Dr.            8\n",
       "Rev.           8\n",
       "Col.           4\n",
       "Major.         2\n",
       "Mlle.          2\n",
       "Ms.            2\n",
       "Mme.           1\n",
       "the            1\n",
       "Don.           1\n",
       "Lady.          1\n",
       "Capt.          1\n",
       "Sir.           1\n",
       "Dona.          1\n",
       "Jonkheer.      1\n",
       "Name: Prefix, dtype: int64"
      ]
     },
     "execution_count": 17,
     "metadata": {},
     "output_type": "execute_result"
    }
   ],
   "source": [
    "df['Prefix'].value_counts()"
   ]
  },
  {
   "cell_type": "code",
   "execution_count": 18,
   "metadata": {},
   "outputs": [
    {
     "data": {
      "text/plain": [
       "Mr.          517\n",
       "Miss.        182\n",
       "Mrs.         125\n",
       "Master.       40\n",
       "Dr.            7\n",
       "Rev.           6\n",
       "Mlle.          2\n",
       "Major.         2\n",
       "Col.           2\n",
       "the            1\n",
       "Capt.          1\n",
       "Sir.           1\n",
       "Don.           1\n",
       "Ms.            1\n",
       "Mme.           1\n",
       "Lady.          1\n",
       "Jonkheer.      1\n",
       "Name: Prefix, dtype: int64"
      ]
     },
     "execution_count": 18,
     "metadata": {},
     "output_type": "execute_result"
    }
   ],
   "source": [
    "df_analyses['Prefix'].value_counts()"
   ]
  },
  {
   "cell_type": "code",
   "execution_count": 19,
   "metadata": {},
   "outputs": [
    {
     "data": {
      "text/html": [
       "<div>\n",
       "<style scoped>\n",
       "    .dataframe tbody tr th:only-of-type {\n",
       "        vertical-align: middle;\n",
       "    }\n",
       "\n",
       "    .dataframe tbody tr th {\n",
       "        vertical-align: top;\n",
       "    }\n",
       "\n",
       "    .dataframe thead th {\n",
       "        text-align: right;\n",
       "    }\n",
       "</style>\n",
       "<table border=\"1\" class=\"dataframe\">\n",
       "  <thead>\n",
       "    <tr style=\"text-align: right;\">\n",
       "      <th></th>\n",
       "      <th>Survived</th>\n",
       "      <th>Pclass</th>\n",
       "      <th>Name</th>\n",
       "      <th>Sex</th>\n",
       "      <th>Age</th>\n",
       "      <th>SibSp</th>\n",
       "      <th>Parch</th>\n",
       "      <th>Ticket</th>\n",
       "      <th>Fare</th>\n",
       "      <th>Cabin</th>\n",
       "      <th>Embarked</th>\n",
       "      <th>Prefix</th>\n",
       "    </tr>\n",
       "    <tr>\n",
       "      <th>PassengerId</th>\n",
       "      <th></th>\n",
       "      <th></th>\n",
       "      <th></th>\n",
       "      <th></th>\n",
       "      <th></th>\n",
       "      <th></th>\n",
       "      <th></th>\n",
       "      <th></th>\n",
       "      <th></th>\n",
       "      <th></th>\n",
       "      <th></th>\n",
       "      <th></th>\n",
       "    </tr>\n",
       "  </thead>\n",
       "  <tbody>\n",
       "    <tr>\n",
       "      <th>760</th>\n",
       "      <td>1</td>\n",
       "      <td>1</td>\n",
       "      <td>Rothes, the Countess. of (Lucy Noel Martha Dye...</td>\n",
       "      <td>female</td>\n",
       "      <td>33.0</td>\n",
       "      <td>0</td>\n",
       "      <td>0</td>\n",
       "      <td>110152</td>\n",
       "      <td>86.5</td>\n",
       "      <td>B77</td>\n",
       "      <td>S</td>\n",
       "      <td>the</td>\n",
       "    </tr>\n",
       "  </tbody>\n",
       "</table>\n",
       "</div>"
      ],
      "text/plain": [
       "             Survived  Pclass  \\\n",
       "PassengerId                     \n",
       "760                 1       1   \n",
       "\n",
       "                                                          Name     Sex   Age  \\\n",
       "PassengerId                                                                    \n",
       "760          Rothes, the Countess. of (Lucy Noel Martha Dye...  female  33.0   \n",
       "\n",
       "             SibSp  Parch  Ticket  Fare Cabin Embarked Prefix  \n",
       "PassengerId                                                    \n",
       "760              0      0  110152  86.5   B77        S    the  "
      ]
     },
     "execution_count": 19,
     "metadata": {},
     "output_type": "execute_result"
    }
   ],
   "source": [
    "df_analyses.loc[df_analyses['Name'].apply(lambda x: x.split(',')[1].split(' ')[1])=='the',:]"
   ]
  },
  {
   "cell_type": "code",
   "execution_count": 20,
   "metadata": {},
   "outputs": [
    {
     "data": {
      "text/plain": [
       "Index(['Mr.', 'Miss.', 'Mrs.', 'Master.', 'Dr.', 'Rev.', 'Mlle.', 'Major.',\n",
       "       'Col.', 'the', 'Capt.', 'Sir.', 'Don.', 'Ms.', 'Mme.', 'Lady.',\n",
       "       'Jonkheer.'],\n",
       "      dtype='object')"
      ]
     },
     "execution_count": 20,
     "metadata": {},
     "output_type": "execute_result"
    }
   ],
   "source": [
    "df_analyses['Prefix'].value_counts().index"
   ]
  },
  {
   "cell_type": "code",
   "execution_count": 21,
   "metadata": {},
   "outputs": [],
   "source": [
    "specific_title=['Master.', 'Dr.', 'Rev.', 'Col.', 'Major.', 'Lady.', 'Sir.', 'the', 'Don.', 'Capt.', 'Jonkheer.']\n",
    "values={'Mlle.': 'Miss.', 'Mme.': 'Mrs.', 'Ms.': 'Miss.'}\n",
    "for t in specific_title:\n",
    "    values[t]='Spec.'\n",
    "df_analyses['Prefix'].replace(values, inplace=True)"
   ]
  },
  {
   "cell_type": "code",
   "execution_count": 22,
   "metadata": {
    "scrolled": false
   },
   "outputs": [
    {
     "data": {
      "image/png": "[encoded data removed]",
      "text/plain": [
       "<Figure size 360x216 with 1 Axes>"
      ]
     },
     "metadata": {
      "needs_background": "light"
     },
     "output_type": "display_data"
    }
   ],
   "source": [
    "fig, axs = plt.subplots(1,1, figsize=(5,3))\n",
    "df_analyses[['Prefix', 'Survived']].groupby('Prefix').mean().plot(kind='bar', ax=axs)\n",
    "labels=axs.get_xticklabels()\n",
    "axs.set_xticklabels(labels, rotation=0)\n",
    "None"
   ]
  },
  {
   "cell_type": "markdown",
   "metadata": {},
   "source": [
    "This constructed Prefix feature is a good predictor."
   ]
  },
  {
   "cell_type": "markdown",
   "metadata": {},
   "source": [
    "#### Sex"
   ]
  },
  {
   "cell_type": "code",
   "execution_count": 23,
   "metadata": {},
   "outputs": [
    {
     "data": {
      "text/plain": [
       "Sex   \n",
       "male      0.440794\n",
       "female    0.239878\n",
       "dtype: float64"
      ]
     },
     "execution_count": 23,
     "metadata": {},
     "output_type": "execute_result"
    }
   ],
   "source": [
    "df_analyses[['Sex']].value_counts()/1309"
   ]
  },
  {
   "cell_type": "code",
   "execution_count": 24,
   "metadata": {},
   "outputs": [
    {
     "data": {
      "image/png": "[encoded data removed]",
      "text/plain": [
       "<Figure size 360x216 with 1 Axes>"
      ]
     },
     "metadata": {
      "needs_background": "light"
     },
     "output_type": "display_data"
    }
   ],
   "source": [
    "fig, axs = plt.subplots(1,1, figsize=(5,3))\n",
    "df_analyses[['Sex', 'Survived']].groupby('Sex').mean().plot(kind='bar', ax=axs)\n",
    "labels=axs.get_xticklabels()\n",
    "axs.set_xticklabels(labels, rotation=0)\n",
    "None"
   ]
  },
  {
   "cell_type": "markdown",
   "metadata": {},
   "source": [
    "#### Age"
   ]
  },
  {
   "cell_type": "code",
   "execution_count": 25,
   "metadata": {},
   "outputs": [
    {
     "data": {
      "image/png": "[encoded data removed]",
      "text/plain": [
       "<Figure size 720x360 with 1 Axes>"
      ]
     },
     "metadata": {
      "needs_background": "light"
     },
     "output_type": "display_data"
    }
   ],
   "source": [
    "fig, axs = plt.subplots(1,1, figsize=(10,5))\n",
    "agemin, agemax = int(df_analyses['Age'].min()), df_analyses['Age'].max()\n",
    "df_analyses[['Age']].plot(kind='hist', bins=int(agemax-agemin+1), range=(agemin-0.5, agemax+0.5), density=True, edgecolor='white', ax=axs)\n",
    "None"
   ]
  },
  {
   "cell_type": "code",
   "execution_count": 26,
   "metadata": {},
   "outputs": [],
   "source": [
    "df_analyses['Age_binned']=df_analyses['Age'].apply(lambda x: x//5)"
   ]
  },
  {
   "cell_type": "code",
   "execution_count": 27,
   "metadata": {},
   "outputs": [
    {
     "data": {
      "image/png": "[encoded data removed]",
      "text/plain": [
       "<Figure size 360x216 with 1 Axes>"
      ]
     },
     "metadata": {
      "needs_background": "light"
     },
     "output_type": "display_data"
    }
   ],
   "source": [
    "fig, axs = plt.subplots(1,1, figsize=(5,3))\n",
    "df_analyses[['Age_binned', 'Survived']].groupby('Age_binned').mean().plot(kind='bar', ax=axs)\n",
    "labels=axs.get_xticklabels()\n",
    "axs.set_xticklabels([int(float(el._text)) for el in labels], rotation=0)\n",
    "None"
   ]
  },
  {
   "cell_type": "code",
   "execution_count": 28,
   "metadata": {},
   "outputs": [
    {
     "data": {
      "text/html": [
       "<div>\n",
       "<style scoped>\n",
       "    .dataframe tbody tr th:only-of-type {\n",
       "        vertical-align: middle;\n",
       "    }\n",
       "\n",
       "    .dataframe tbody tr th {\n",
       "        vertical-align: top;\n",
       "    }\n",
       "\n",
       "    .dataframe thead th {\n",
       "        text-align: right;\n",
       "    }\n",
       "</style>\n",
       "<table border=\"1\" class=\"dataframe\">\n",
       "  <thead>\n",
       "    <tr style=\"text-align: right;\">\n",
       "      <th></th>\n",
       "      <th>Survived</th>\n",
       "      <th>Pclass</th>\n",
       "      <th>Name</th>\n",
       "      <th>Sex</th>\n",
       "      <th>Age</th>\n",
       "      <th>SibSp</th>\n",
       "      <th>Parch</th>\n",
       "      <th>Ticket</th>\n",
       "      <th>Fare</th>\n",
       "      <th>Cabin</th>\n",
       "      <th>Embarked</th>\n",
       "      <th>Prefix</th>\n",
       "      <th>Age_binned</th>\n",
       "    </tr>\n",
       "    <tr>\n",
       "      <th>PassengerId</th>\n",
       "      <th></th>\n",
       "      <th></th>\n",
       "      <th></th>\n",
       "      <th></th>\n",
       "      <th></th>\n",
       "      <th></th>\n",
       "      <th></th>\n",
       "      <th></th>\n",
       "      <th></th>\n",
       "      <th></th>\n",
       "      <th></th>\n",
       "      <th></th>\n",
       "      <th></th>\n",
       "    </tr>\n",
       "  </thead>\n",
       "  <tbody>\n",
       "    <tr>\n",
       "      <th>97</th>\n",
       "      <td>0</td>\n",
       "      <td>1</td>\n",
       "      <td>Goldschmidt, Mr. George B</td>\n",
       "      <td>male</td>\n",
       "      <td>71.0</td>\n",
       "      <td>0</td>\n",
       "      <td>0</td>\n",
       "      <td>PC 17754</td>\n",
       "      <td>34.6542</td>\n",
       "      <td>A5</td>\n",
       "      <td>C</td>\n",
       "      <td>Mr.</td>\n",
       "      <td>14.0</td>\n",
       "    </tr>\n",
       "    <tr>\n",
       "      <th>117</th>\n",
       "      <td>0</td>\n",
       "      <td>3</td>\n",
       "      <td>Connors, Mr. Patrick</td>\n",
       "      <td>male</td>\n",
       "      <td>70.5</td>\n",
       "      <td>0</td>\n",
       "      <td>0</td>\n",
       "      <td>370369</td>\n",
       "      <td>7.7500</td>\n",
       "      <td>NaN</td>\n",
       "      <td>Q</td>\n",
       "      <td>Mr.</td>\n",
       "      <td>14.0</td>\n",
       "    </tr>\n",
       "    <tr>\n",
       "      <th>494</th>\n",
       "      <td>0</td>\n",
       "      <td>1</td>\n",
       "      <td>Artagaveytia, Mr. Ramon</td>\n",
       "      <td>male</td>\n",
       "      <td>71.0</td>\n",
       "      <td>0</td>\n",
       "      <td>0</td>\n",
       "      <td>PC 17609</td>\n",
       "      <td>49.5042</td>\n",
       "      <td>NaN</td>\n",
       "      <td>C</td>\n",
       "      <td>Mr.</td>\n",
       "      <td>14.0</td>\n",
       "    </tr>\n",
       "    <tr>\n",
       "      <th>631</th>\n",
       "      <td>1</td>\n",
       "      <td>1</td>\n",
       "      <td>Barkworth, Mr. Algernon Henry Wilson</td>\n",
       "      <td>male</td>\n",
       "      <td>80.0</td>\n",
       "      <td>0</td>\n",
       "      <td>0</td>\n",
       "      <td>27042</td>\n",
       "      <td>30.0000</td>\n",
       "      <td>A23</td>\n",
       "      <td>S</td>\n",
       "      <td>Mr.</td>\n",
       "      <td>16.0</td>\n",
       "    </tr>\n",
       "    <tr>\n",
       "      <th>673</th>\n",
       "      <td>0</td>\n",
       "      <td>2</td>\n",
       "      <td>Mitchell, Mr. Henry Michael</td>\n",
       "      <td>male</td>\n",
       "      <td>70.0</td>\n",
       "      <td>0</td>\n",
       "      <td>0</td>\n",
       "      <td>C.A. 24580</td>\n",
       "      <td>10.5000</td>\n",
       "      <td>NaN</td>\n",
       "      <td>S</td>\n",
       "      <td>Mr.</td>\n",
       "      <td>14.0</td>\n",
       "    </tr>\n",
       "    <tr>\n",
       "      <th>746</th>\n",
       "      <td>0</td>\n",
       "      <td>1</td>\n",
       "      <td>Crosby, Capt. Edward Gifford</td>\n",
       "      <td>male</td>\n",
       "      <td>70.0</td>\n",
       "      <td>1</td>\n",
       "      <td>1</td>\n",
       "      <td>WE/P 5735</td>\n",
       "      <td>71.0000</td>\n",
       "      <td>B22</td>\n",
       "      <td>S</td>\n",
       "      <td>Spec.</td>\n",
       "      <td>14.0</td>\n",
       "    </tr>\n",
       "    <tr>\n",
       "      <th>852</th>\n",
       "      <td>0</td>\n",
       "      <td>3</td>\n",
       "      <td>Svensson, Mr. Johan</td>\n",
       "      <td>male</td>\n",
       "      <td>74.0</td>\n",
       "      <td>0</td>\n",
       "      <td>0</td>\n",
       "      <td>347060</td>\n",
       "      <td>7.7750</td>\n",
       "      <td>NaN</td>\n",
       "      <td>S</td>\n",
       "      <td>Mr.</td>\n",
       "      <td>14.0</td>\n",
       "    </tr>\n",
       "  </tbody>\n",
       "</table>\n",
       "</div>"
      ],
      "text/plain": [
       "             Survived  Pclass                                  Name   Sex  \\\n",
       "PassengerId                                                                 \n",
       "97                  0       1             Goldschmidt, Mr. George B  male   \n",
       "117                 0       3                  Connors, Mr. Patrick  male   \n",
       "494                 0       1               Artagaveytia, Mr. Ramon  male   \n",
       "631                 1       1  Barkworth, Mr. Algernon Henry Wilson  male   \n",
       "673                 0       2           Mitchell, Mr. Henry Michael  male   \n",
       "746                 0       1          Crosby, Capt. Edward Gifford  male   \n",
       "852                 0       3                   Svensson, Mr. Johan  male   \n",
       "\n",
       "              Age  SibSp  Parch      Ticket     Fare Cabin Embarked Prefix  \\\n",
       "PassengerId                                                                  \n",
       "97           71.0      0      0    PC 17754  34.6542    A5        C    Mr.   \n",
       "117          70.5      0      0      370369   7.7500   NaN        Q    Mr.   \n",
       "494          71.0      0      0    PC 17609  49.5042   NaN        C    Mr.   \n",
       "631          80.0      0      0       27042  30.0000   A23        S    Mr.   \n",
       "673          70.0      0      0  C.A. 24580  10.5000   NaN        S    Mr.   \n",
       "746          70.0      1      1   WE/P 5735  71.0000   B22        S  Spec.   \n",
       "852          74.0      0      0      347060   7.7750   NaN        S    Mr.   \n",
       "\n",
       "             Age_binned  \n",
       "PassengerId              \n",
       "97                 14.0  \n",
       "117                14.0  \n",
       "494                14.0  \n",
       "631                16.0  \n",
       "673                14.0  \n",
       "746                14.0  \n",
       "852                14.0  "
      ]
     },
     "execution_count": 28,
     "metadata": {},
     "output_type": "execute_result"
    }
   ],
   "source": [
    "df_analyses.loc[df_analyses['Age']>=70,:]"
   ]
  },
  {
   "cell_type": "markdown",
   "metadata": {},
   "source": [
    "We will consider the 80-years old passenger as an outlier and remove it."
   ]
  },
  {
   "cell_type": "markdown",
   "metadata": {},
   "source": [
    "##### missing values"
   ]
  },
  {
   "cell_type": "code",
   "execution_count": 29,
   "metadata": {},
   "outputs": [
    {
     "data": {
      "text/html": [
       "<div>\n",
       "<style scoped>\n",
       "    .dataframe tbody tr th:only-of-type {\n",
       "        vertical-align: middle;\n",
       "    }\n",
       "\n",
       "    .dataframe tbody tr th {\n",
       "        vertical-align: top;\n",
       "    }\n",
       "\n",
       "    .dataframe thead th {\n",
       "        text-align: right;\n",
       "    }\n",
       "</style>\n",
       "<table border=\"1\" class=\"dataframe\">\n",
       "  <thead>\n",
       "    <tr style=\"text-align: right;\">\n",
       "      <th></th>\n",
       "      <th>Survived</th>\n",
       "      <th>Pclass</th>\n",
       "      <th>Name</th>\n",
       "      <th>Sex</th>\n",
       "      <th>Age</th>\n",
       "      <th>SibSp</th>\n",
       "      <th>Parch</th>\n",
       "      <th>Ticket</th>\n",
       "      <th>Fare</th>\n",
       "      <th>Cabin</th>\n",
       "      <th>Embarked</th>\n",
       "      <th>Prefix</th>\n",
       "      <th>Age_binned</th>\n",
       "    </tr>\n",
       "    <tr>\n",
       "      <th>PassengerId</th>\n",
       "      <th></th>\n",
       "      <th></th>\n",
       "      <th></th>\n",
       "      <th></th>\n",
       "      <th></th>\n",
       "      <th></th>\n",
       "      <th></th>\n",
       "      <th></th>\n",
       "      <th></th>\n",
       "      <th></th>\n",
       "      <th></th>\n",
       "      <th></th>\n",
       "      <th></th>\n",
       "    </tr>\n",
       "  </thead>\n",
       "  <tbody>\n",
       "    <tr>\n",
       "      <th>6</th>\n",
       "      <td>0</td>\n",
       "      <td>3</td>\n",
       "      <td>Moran, Mr. James</td>\n",
       "      <td>male</td>\n",
       "      <td>NaN</td>\n",
       "      <td>0</td>\n",
       "      <td>0</td>\n",
       "      <td>330877</td>\n",
       "      <td>8.4583</td>\n",
       "      <td>NaN</td>\n",
       "      <td>Q</td>\n",
       "      <td>Mr.</td>\n",
       "      <td>NaN</td>\n",
       "    </tr>\n",
       "    <tr>\n",
       "      <th>18</th>\n",
       "      <td>1</td>\n",
       "      <td>2</td>\n",
       "      <td>Williams, Mr. Charles Eugene</td>\n",
       "      <td>male</td>\n",
       "      <td>NaN</td>\n",
       "      <td>0</td>\n",
       "      <td>0</td>\n",
       "      <td>244373</td>\n",
       "      <td>13.0000</td>\n",
       "      <td>NaN</td>\n",
       "      <td>S</td>\n",
       "      <td>Mr.</td>\n",
       "      <td>NaN</td>\n",
       "    </tr>\n",
       "    <tr>\n",
       "      <th>20</th>\n",
       "      <td>1</td>\n",
       "      <td>3</td>\n",
       "      <td>Masselmani, Mrs. Fatima</td>\n",
       "      <td>female</td>\n",
       "      <td>NaN</td>\n",
       "      <td>0</td>\n",
       "      <td>0</td>\n",
       "      <td>2649</td>\n",
       "      <td>7.2250</td>\n",
       "      <td>NaN</td>\n",
       "      <td>C</td>\n",
       "      <td>Mrs.</td>\n",
       "      <td>NaN</td>\n",
       "    </tr>\n",
       "    <tr>\n",
       "      <th>27</th>\n",
       "      <td>0</td>\n",
       "      <td>3</td>\n",
       "      <td>Emir, Mr. Farred Chehab</td>\n",
       "      <td>male</td>\n",
       "      <td>NaN</td>\n",
       "      <td>0</td>\n",
       "      <td>0</td>\n",
       "      <td>2631</td>\n",
       "      <td>7.2250</td>\n",
       "      <td>NaN</td>\n",
       "      <td>C</td>\n",
       "      <td>Mr.</td>\n",
       "      <td>NaN</td>\n",
       "    </tr>\n",
       "    <tr>\n",
       "      <th>29</th>\n",
       "      <td>1</td>\n",
       "      <td>3</td>\n",
       "      <td>O'Dwyer, Miss. Ellen \"Nellie\"</td>\n",
       "      <td>female</td>\n",
       "      <td>NaN</td>\n",
       "      <td>0</td>\n",
       "      <td>0</td>\n",
       "      <td>330959</td>\n",
       "      <td>7.8792</td>\n",
       "      <td>NaN</td>\n",
       "      <td>Q</td>\n",
       "      <td>Miss.</td>\n",
       "      <td>NaN</td>\n",
       "    </tr>\n",
       "    <tr>\n",
       "      <th>...</th>\n",
       "      <td>...</td>\n",
       "      <td>...</td>\n",
       "      <td>...</td>\n",
       "      <td>...</td>\n",
       "      <td>...</td>\n",
       "      <td>...</td>\n",
       "      <td>...</td>\n",
       "      <td>...</td>\n",
       "      <td>...</td>\n",
       "      <td>...</td>\n",
       "      <td>...</td>\n",
       "      <td>...</td>\n",
       "      <td>...</td>\n",
       "    </tr>\n",
       "    <tr>\n",
       "      <th>860</th>\n",
       "      <td>0</td>\n",
       "      <td>3</td>\n",
       "      <td>Razi, Mr. Raihed</td>\n",
       "      <td>male</td>\n",
       "      <td>NaN</td>\n",
       "      <td>0</td>\n",
       "      <td>0</td>\n",
       "      <td>2629</td>\n",
       "      <td>7.2292</td>\n",
       "      <td>NaN</td>\n",
       "      <td>C</td>\n",
       "      <td>Mr.</td>\n",
       "      <td>NaN</td>\n",
       "    </tr>\n",
       "    <tr>\n",
       "      <th>864</th>\n",
       "      <td>0</td>\n",
       "      <td>3</td>\n",
       "      <td>Sage, Miss. Dorothy Edith \"Dolly\"</td>\n",
       "      <td>female</td>\n",
       "      <td>NaN</td>\n",
       "      <td>8</td>\n",
       "      <td>2</td>\n",
       "      <td>CA. 2343</td>\n",
       "      <td>69.5500</td>\n",
       "      <td>NaN</td>\n",
       "      <td>S</td>\n",
       "      <td>Miss.</td>\n",
       "      <td>NaN</td>\n",
       "    </tr>\n",
       "    <tr>\n",
       "      <th>869</th>\n",
       "      <td>0</td>\n",
       "      <td>3</td>\n",
       "      <td>van Melkebeke, Mr. Philemon</td>\n",
       "      <td>male</td>\n",
       "      <td>NaN</td>\n",
       "      <td>0</td>\n",
       "      <td>0</td>\n",
       "      <td>345777</td>\n",
       "      <td>9.5000</td>\n",
       "      <td>NaN</td>\n",
       "      <td>S</td>\n",
       "      <td>Mr.</td>\n",
       "      <td>NaN</td>\n",
       "    </tr>\n",
       "    <tr>\n",
       "      <th>879</th>\n",
       "      <td>0</td>\n",
       "      <td>3</td>\n",
       "      <td>Laleff, Mr. Kristo</td>\n",
       "      <td>male</td>\n",
       "      <td>NaN</td>\n",
       "      <td>0</td>\n",
       "      <td>0</td>\n",
       "      <td>349217</td>\n",
       "      <td>7.8958</td>\n",
       "      <td>NaN</td>\n",
       "      <td>S</td>\n",
       "      <td>Mr.</td>\n",
       "      <td>NaN</td>\n",
       "    </tr>\n",
       "    <tr>\n",
       "      <th>889</th>\n",
       "      <td>0</td>\n",
       "      <td>3</td>\n",
       "      <td>Johnston, Miss. Catherine Helen \"Carrie\"</td>\n",
       "      <td>female</td>\n",
       "      <td>NaN</td>\n",
       "      <td>1</td>\n",
       "      <td>2</td>\n",
       "      <td>W./C. 6607</td>\n",
       "      <td>23.4500</td>\n",
       "      <td>NaN</td>\n",
       "      <td>S</td>\n",
       "      <td>Miss.</td>\n",
       "      <td>NaN</td>\n",
       "    </tr>\n",
       "  </tbody>\n",
       "</table>\n",
       "<p>177 rows × 13 columns</p>\n",
       "</div>"
      ],
      "text/plain": [
       "             Survived  Pclass                                      Name  \\\n",
       "PassengerId                                                               \n",
       "6                   0       3                          Moran, Mr. James   \n",
       "18                  1       2              Williams, Mr. Charles Eugene   \n",
       "20                  1       3                   Masselmani, Mrs. Fatima   \n",
       "27                  0       3                   Emir, Mr. Farred Chehab   \n",
       "29                  1       3             O'Dwyer, Miss. Ellen \"Nellie\"   \n",
       "...               ...     ...                                       ...   \n",
       "860                 0       3                          Razi, Mr. Raihed   \n",
       "864                 0       3         Sage, Miss. Dorothy Edith \"Dolly\"   \n",
       "869                 0       3               van Melkebeke, Mr. Philemon   \n",
       "879                 0       3                        Laleff, Mr. Kristo   \n",
       "889                 0       3  Johnston, Miss. Catherine Helen \"Carrie\"   \n",
       "\n",
       "                Sex  Age  SibSp  Parch      Ticket     Fare Cabin Embarked  \\\n",
       "PassengerId                                                                  \n",
       "6              male  NaN      0      0      330877   8.4583   NaN        Q   \n",
       "18             male  NaN      0      0      244373  13.0000   NaN        S   \n",
       "20           female  NaN      0      0        2649   7.2250   NaN        C   \n",
       "27             male  NaN      0      0        2631   7.2250   NaN        C   \n",
       "29           female  NaN      0      0      330959   7.8792   NaN        Q   \n",
       "...             ...  ...    ...    ...         ...      ...   ...      ...   \n",
       "860            male  NaN      0      0        2629   7.2292   NaN        C   \n",
       "864          female  NaN      8      2    CA. 2343  69.5500   NaN        S   \n",
       "869            male  NaN      0      0      345777   9.5000   NaN        S   \n",
       "879            male  NaN      0      0      349217   7.8958   NaN        S   \n",
       "889          female  NaN      1      2  W./C. 6607  23.4500   NaN        S   \n",
       "\n",
       "            Prefix  Age_binned  \n",
       "PassengerId                     \n",
       "6              Mr.         NaN  \n",
       "18             Mr.         NaN  \n",
       "20            Mrs.         NaN  \n",
       "27             Mr.         NaN  \n",
       "29           Miss.         NaN  \n",
       "...            ...         ...  \n",
       "860            Mr.         NaN  \n",
       "864          Miss.         NaN  \n",
       "869            Mr.         NaN  \n",
       "879            Mr.         NaN  \n",
       "889          Miss.         NaN  \n",
       "\n",
       "[177 rows x 13 columns]"
      ]
     },
     "execution_count": 29,
     "metadata": {},
     "output_type": "execute_result"
    }
   ],
   "source": [
    "df_analyses.loc[df_analyses['Age'].isna(),:]"
   ]
  },
  {
   "cell_type": "code",
   "execution_count": 30,
   "metadata": {},
   "outputs": [
    {
     "data": {
      "text/html": [
       "<div>\n",
       "<style scoped>\n",
       "    .dataframe tbody tr th:only-of-type {\n",
       "        vertical-align: middle;\n",
       "    }\n",
       "\n",
       "    .dataframe tbody tr th {\n",
       "        vertical-align: top;\n",
       "    }\n",
       "\n",
       "    .dataframe thead th {\n",
       "        text-align: right;\n",
       "    }\n",
       "</style>\n",
       "<table border=\"1\" class=\"dataframe\">\n",
       "  <thead>\n",
       "    <tr style=\"text-align: right;\">\n",
       "      <th></th>\n",
       "      <th></th>\n",
       "      <th>Age_binned</th>\n",
       "    </tr>\n",
       "    <tr>\n",
       "      <th>Pclass</th>\n",
       "      <th>Sex</th>\n",
       "      <th></th>\n",
       "    </tr>\n",
       "  </thead>\n",
       "  <tbody>\n",
       "    <tr>\n",
       "      <th rowspan=\"2\" valign=\"top\">1</th>\n",
       "      <th>female</th>\n",
       "      <td>7.0</td>\n",
       "    </tr>\n",
       "    <tr>\n",
       "      <th>male</th>\n",
       "      <td>8.0</td>\n",
       "    </tr>\n",
       "    <tr>\n",
       "      <th rowspan=\"2\" valign=\"top\">2</th>\n",
       "      <th>female</th>\n",
       "      <td>5.0</td>\n",
       "    </tr>\n",
       "    <tr>\n",
       "      <th>male</th>\n",
       "      <td>6.0</td>\n",
       "    </tr>\n",
       "    <tr>\n",
       "      <th rowspan=\"2\" valign=\"top\">3</th>\n",
       "      <th>female</th>\n",
       "      <td>4.0</td>\n",
       "    </tr>\n",
       "    <tr>\n",
       "      <th>male</th>\n",
       "      <td>5.0</td>\n",
       "    </tr>\n",
       "  </tbody>\n",
       "</table>\n",
       "</div>"
      ],
      "text/plain": [
       "               Age_binned\n",
       "Pclass Sex               \n",
       "1      female         7.0\n",
       "       male           8.0\n",
       "2      female         5.0\n",
       "       male           6.0\n",
       "3      female         4.0\n",
       "       male           5.0"
      ]
     },
     "execution_count": 30,
     "metadata": {},
     "output_type": "execute_result"
    }
   ],
   "source": [
    "df_analyses.loc[~df_analyses['Age_binned'].isna(), ['Pclass', 'Age_binned', 'Sex']].groupby(['Pclass', 'Sex']).agg(lambda x: np.median(x))"
   ]
  },
  {
   "cell_type": "code",
   "execution_count": 31,
   "metadata": {},
   "outputs": [],
   "source": [
    "def new_age(row):\n",
    "    c, s, _ = row\n",
    "    if (c, s) == (1, 'female'):\n",
    "        return 7\n",
    "    if (c,s)==(1, 'male'):\n",
    "        return 8\n",
    "    if (c,s)==(2, 'female'):\n",
    "        return 5\n",
    "    if (c,s)==(2, 'male'):\n",
    "        return 6\n",
    "    if (c,s)==(3, 'female'):\n",
    "        return 4\n",
    "    if (c,s)==(3, 'male'):\n",
    "        return 5"
   ]
  },
  {
   "cell_type": "code",
   "execution_count": 32,
   "metadata": {},
   "outputs": [],
   "source": [
    "df_analyses.loc[df_analyses['Age_binned'].isna(), 'Age_binned'] = df_analyses.loc[df_analyses['Age_binned'].isna(), ['Pclass', 'Sex', 'Age_binned']].apply(new_age, axis=1)"
   ]
  },
  {
   "cell_type": "markdown",
   "metadata": {},
   "source": [
    "#### SibSp, Parch"
   ]
  },
  {
   "cell_type": "code",
   "execution_count": 33,
   "metadata": {},
   "outputs": [
    {
     "data": {
      "text/plain": [
       "<AxesSubplot:>"
      ]
     },
     "execution_count": 33,
     "metadata": {},
     "output_type": "execute_result"
    },
    {
     "data": {
      "image/png": "[encoded data removed]",
      "text/plain": [
       "<Figure size 432x288 with 1 Axes>"
      ]
     },
     "metadata": {
      "needs_background": "light"
     },
     "output_type": "display_data"
    }
   ],
   "source": [
    "df_analyses['SibSp'].hist(bins=9, range=(-0.5, 8.5), edgecolor='white')"
   ]
  },
  {
   "cell_type": "code",
   "execution_count": 34,
   "metadata": {},
   "outputs": [
    {
     "data": {
      "image/png": "[encoded data removed]",
      "text/plain": [
       "<Figure size 360x216 with 1 Axes>"
      ]
     },
     "metadata": {
      "needs_background": "light"
     },
     "output_type": "display_data"
    }
   ],
   "source": [
    "fig, axs = plt.subplots(1,1, figsize=(5,3))\n",
    "df_analyses[['SibSp', 'Survived']].groupby('SibSp').mean().plot(kind='bar', ax=axs)\n",
    "labels=axs.get_xticklabels()\n",
    "axs.set_xticklabels([int(float(el._text)) for el in labels], rotation=0)\n",
    "None"
   ]
  },
  {
   "cell_type": "code",
   "execution_count": 35,
   "metadata": {},
   "outputs": [
    {
     "data": {
      "text/plain": [
       "<AxesSubplot:>"
      ]
     },
     "execution_count": 35,
     "metadata": {},
     "output_type": "execute_result"
    },
    {
     "data": {
      "image/png": "[encoded data removed]",
      "text/plain": [
       "<Figure size 432x288 with 1 Axes>"
      ]
     },
     "metadata": {
      "needs_background": "light"
     },
     "output_type": "display_data"
    }
   ],
   "source": [
    "df_analyses['Parch'].hist(bins=7, range=(-0.5, 6.5), edgecolor='white')"
   ]
  },
  {
   "cell_type": "code",
   "execution_count": 36,
   "metadata": {},
   "outputs": [
    {
     "data": {
      "image/png": "[encoded data removed]",
      "text/plain": [
       "<Figure size 360x216 with 1 Axes>"
      ]
     },
     "metadata": {
      "needs_background": "light"
     },
     "output_type": "display_data"
    }
   ],
   "source": [
    "fig, axs = plt.subplots(1,1, figsize=(5,3))\n",
    "df_analyses[['Parch', 'Survived']].groupby('Parch').mean().plot(kind='bar', ax=axs)\n",
    "labels=axs.get_xticklabels()\n",
    "axs.set_xticklabels([int(float(el._text)) for el in labels], rotation=0)\n",
    "None"
   ]
  },
  {
   "cell_type": "code",
   "execution_count": 37,
   "metadata": {},
   "outputs": [],
   "source": [
    "df_analyses['Family']=df_analyses['SibSp']+df_analyses['Parch']"
   ]
  },
  {
   "cell_type": "code",
   "execution_count": 38,
   "metadata": {},
   "outputs": [
    {
     "data": {
      "text/plain": [
       "<AxesSubplot:>"
      ]
     },
     "execution_count": 38,
     "metadata": {},
     "output_type": "execute_result"
    },
    {
     "data": {
      "image/png": "[encoded data removed]",
      "text/plain": [
       "<Figure size 432x288 with 1 Axes>"
      ]
     },
     "metadata": {
      "needs_background": "light"
     },
     "output_type": "display_data"
    }
   ],
   "source": [
    "df_analyses['Family'].hist(bins=11, range=(-0.5, 10.5), edgecolor='white')"
   ]
  },
  {
   "cell_type": "code",
   "execution_count": 39,
   "metadata": {},
   "outputs": [
    {
     "data": {
      "image/png": "[encoded data removed]",
      "text/plain": [
       "<Figure size 360x216 with 1 Axes>"
      ]
     },
     "metadata": {
      "needs_background": "light"
     },
     "output_type": "display_data"
    }
   ],
   "source": [
    "fig, axs = plt.subplots(1,1, figsize=(5,3))\n",
    "df_analyses[['Family', 'Survived']].groupby('Family').mean().plot(kind='bar', ax=axs)\n",
    "labels=axs.get_xticklabels()\n",
    "axs.set_xticklabels([int(float(el._text)) for el in labels], rotation=0)\n",
    "None"
   ]
  },
  {
   "cell_type": "markdown",
   "metadata": {},
   "source": [
    "#### Fare"
   ]
  },
  {
   "cell_type": "code",
   "execution_count": 40,
   "metadata": {},
   "outputs": [
    {
     "data": {
      "text/plain": [
       "array([[<AxesSubplot:title={'center':'Fare'}>]], dtype=object)"
      ]
     },
     "execution_count": 40,
     "metadata": {},
     "output_type": "execute_result"
    },
    {
     "data": {
      "image/png": "[encoded data removed]",
      "text/plain": [
       "<Figure size 432x288 with 1 Axes>"
      ]
     },
     "metadata": {
      "needs_background": "light"
     },
     "output_type": "display_data"
    }
   ],
   "source": [
    "df_analyses[['Fare']].hist()"
   ]
  },
  {
   "cell_type": "code",
   "execution_count": 41,
   "metadata": {},
   "outputs": [],
   "source": [
    "df_analyses['Fare_per_f']=df_analyses['Fare']/(df_analyses['Family']+1)"
   ]
  },
  {
   "cell_type": "code",
   "execution_count": 42,
   "metadata": {},
   "outputs": [
    {
     "data": {
      "text/plain": [
       "<AxesSubplot:xlabel='Pclass', ylabel='Fare_per_f'>"
      ]
     },
     "execution_count": 42,
     "metadata": {},
     "output_type": "execute_result"
    },
    {
     "data": {
      "image/png": "[encoded data removed]",
      "text/plain": [
       "<Figure size 432x288 with 1 Axes>"
      ]
     },
     "metadata": {
      "needs_background": "light"
     },
     "output_type": "display_data"
    }
   ],
   "source": [
    "df_analyses[['Fare', 'Family', 'Pclass', 'Fare_per_f']].plot(kind='scatter', x='Pclass', y='Fare_per_f')"
   ]
  },
  {
   "cell_type": "code",
   "execution_count": 43,
   "metadata": {},
   "outputs": [
    {
     "data": {
      "text/plain": [
       "<AxesSubplot:xlabel='Fare', ylabel='Survived'>"
      ]
     },
     "execution_count": 43,
     "metadata": {},
     "output_type": "execute_result"
    },
    {
     "data": {
      "image/png": "[encoded data removed]",
      "text/plain": [
       "<Figure size 432x288 with 1 Axes>"
      ]
     },
     "metadata": {
      "needs_background": "light"
     },
     "output_type": "display_data"
    }
   ],
   "source": [
    "df_analyses[['Fare', 'Survived']].plot(kind='scatter', x='Fare', y='Survived')"
   ]
  },
  {
   "cell_type": "code",
   "execution_count": 44,
   "metadata": {},
   "outputs": [
    {
     "data": {
      "text/plain": [
       "<AxesSubplot:xlabel='Fare_per_f', ylabel='Survived'>"
      ]
     },
     "execution_count": 44,
     "metadata": {},
     "output_type": "execute_result"
    },
    {
     "data": {
      "image/png": "[encoded data removed]",
      "text/plain": [
       "<Figure size 432x288 with 1 Axes>"
      ]
     },
     "metadata": {
      "needs_background": "light"
     },
     "output_type": "display_data"
    }
   ],
   "source": [
    "df_analyses[['Fare_per_f', 'Survived']].plot(kind='scatter', x='Fare_per_f', y='Survived')"
   ]
  },
  {
   "cell_type": "markdown",
   "metadata": {},
   "source": [
    "This feature does not seems to be a good predictor."
   ]
  },
  {
   "cell_type": "markdown",
   "metadata": {},
   "source": [
    "#### Cabin"
   ]
  },
  {
   "cell_type": "code",
   "execution_count": 45,
   "metadata": {},
   "outputs": [
    {
     "data": {
      "text/plain": [
       "C23 C25 C27    4\n",
       "B96 B98        4\n",
       "G6             4\n",
       "F33            3\n",
       "D              3\n",
       "              ..\n",
       "A19            1\n",
       "E68            1\n",
       "E50            1\n",
       "A26            1\n",
       "E38            1\n",
       "Name: Cabin, Length: 147, dtype: int64"
      ]
     },
     "execution_count": 45,
     "metadata": {},
     "output_type": "execute_result"
    }
   ],
   "source": [
    "df_analyses['Cabin'].value_counts()"
   ]
  },
  {
   "cell_type": "code",
   "execution_count": 46,
   "metadata": {},
   "outputs": [
    {
     "data": {
      "text/plain": [
       "3    0.975560\n",
       "2    0.913043\n",
       "1    0.185185\n",
       "Name: Pclass, dtype: float64"
      ]
     },
     "execution_count": 46,
     "metadata": {},
     "output_type": "execute_result"
    }
   ],
   "source": [
    "df_analyses.loc[df_analyses['Cabin'].isna(), 'Pclass'].value_counts()/[491, 184, 216]"
   ]
  },
  {
   "cell_type": "code",
   "execution_count": 47,
   "metadata": {},
   "outputs": [
    {
     "data": {
      "text/plain": [
       "0    0.876138\n",
       "1    0.602339\n",
       "Name: Survived, dtype: float64"
      ]
     },
     "execution_count": 47,
     "metadata": {},
     "output_type": "execute_result"
    }
   ],
   "source": [
    "df_analyses.loc[df_analyses['Cabin'].isna(), 'Survived'].value_counts()/[549, 342]"
   ]
  },
  {
   "cell_type": "markdown",
   "metadata": {},
   "source": [
    "This feature is difficult to use because there are plenty (687, 52%) of missing values and they are absolutely not well distributed among classes, nor survivors."
   ]
  },
  {
   "cell_type": "markdown",
   "metadata": {},
   "source": [
    "#### Embarked"
   ]
  },
  {
   "cell_type": "code",
   "execution_count": 48,
   "metadata": {},
   "outputs": [
    {
     "data": {
      "text/plain": [
       "S    644\n",
       "C    168\n",
       "Q     77\n",
       "Name: Embarked, dtype: int64"
      ]
     },
     "execution_count": 48,
     "metadata": {},
     "output_type": "execute_result"
    }
   ],
   "source": [
    "df_analyses['Embarked'].value_counts()"
   ]
  },
  {
   "cell_type": "code",
   "execution_count": 49,
   "metadata": {},
   "outputs": [
    {
     "data": {
      "image/png": "[encoded data removed]",
      "text/plain": [
       "<Figure size 360x216 with 1 Axes>"
      ]
     },
     "metadata": {
      "needs_background": "light"
     },
     "output_type": "display_data"
    }
   ],
   "source": [
    "fig, axs = plt.subplots(1,1, figsize=(5,3))\n",
    "df_analyses[['Embarked', 'Survived']].groupby('Embarked').mean().plot(kind='bar', ax=axs)\n",
    "labels=axs.get_xticklabels()\n",
    "axs.set_xticklabels(labels, rotation=0)\n",
    "None"
   ]
  },
  {
   "cell_type": "markdown",
   "metadata": {},
   "source": [
    "This feature seems to be a good predictor. And we will replace the missing values by the most common one: 'S'."
   ]
  },
  {
   "cell_type": "markdown",
   "metadata": {},
   "source": [
    "## Data preprocessing"
   ]
  },
  {
   "cell_type": "code",
   "execution_count": 50,
   "metadata": {},
   "outputs": [],
   "source": [
    "from sklearn.base import BaseEstimator, TransformerMixin\n",
    "from sklearn.pipeline import Pipeline\n",
    "from sklearn.preprocessing import OneHotEncoder, StandardScaler\n",
    "from sklearn.model_selection import KFold"
   ]
  },
  {
   "cell_type": "markdown",
   "metadata": {},
   "source": [
    "We will do the following preprocessing steps:\n",
    "\n",
    "1. **adding new features**: binning the age, creating the prefix feature, replacing the values for the sex feature\n",
    "1. **filling the missing values**: following what is explain above\n",
    "2. **dealing with categorical values**: to create dummies variables for these features\n",
    "3. **selecting features and scaling them**: to select the features used and to scale them"
   ]
  },
  {
   "cell_type": "code",
   "execution_count": 51,
   "metadata": {},
   "outputs": [],
   "source": [
    "# binning the age\n",
    "\n",
    "class FeatureAdder(BaseEstimator, TransformerMixin):\n",
    "    def fit(self, df, y=None):\n",
    "        return self\n",
    "    def transform(self, df, y=None):\n",
    "        df2=df.copy()\n",
    "        \n",
    "        # binning the age\n",
    "        df2['Age_binned']=df2['Age'].apply(lambda x: x//5)\n",
    "        \n",
    "        # creating the prefix feature\n",
    "        df2['Prefix']=df2['Name'].apply(lambda x: x.split(',')[1].split(' ')[1])\n",
    "        classic_titles=['Mr.', 'Mrs.', 'Miss.', 'Mlle.', 'Mme.', 'Ms.']\n",
    "        non_classic_titles=[t for t in df2['Prefix'].unique() if t not in classic_titles]\n",
    "        values={'Mlle.': 'Miss.', 'Mme.': 'Mrs.', 'Ms.': 'Miss.'}\n",
    "        for t in non_classic_titles:\n",
    "            values[t]='Spec.'\n",
    "        df2['Prefix'].replace(values, inplace=True)\n",
    "        \n",
    "        # replacing sex values\n",
    "        df2['Sex'].replace({'male':1, 'female':0}, inplace=True)\n",
    "        \n",
    "        return df2\n",
    "\n",
    "        \n",
    "# filling the missing values\n",
    "\n",
    "class NAFiller(BaseEstimator, TransformerMixin):\n",
    "    def fit(self, df, y=None):\n",
    "        return self\n",
    "    def transform(self, df, y=None):\n",
    "        df2=df.copy()\n",
    "        \n",
    "        # Age_binned: filling with the new_age function\n",
    "        def new_age(row):\n",
    "            c, s, _ = row\n",
    "            if (c, s) == (1, 0):\n",
    "                return 7\n",
    "            if (c,s)==(1, 1):\n",
    "                return 8\n",
    "            if (c,s)==(2, 0):\n",
    "                return 5\n",
    "            if (c,s)==(2, 1):\n",
    "                return 6\n",
    "            if (c,s)==(3, 0):\n",
    "                return 4\n",
    "            if (c,s)==(3, 1):\n",
    "                return 5\n",
    "            \n",
    "        df2.loc[df2['Age_binned'].isna(), 'Age_binned'] = \\\n",
    "          df2.loc[df2['Age_binned'].isna(), ['Pclass', 'Sex', 'Age_binned']].apply(new_age, axis=1)\n",
    "        \n",
    "        # Embarked: filling with 'S'\n",
    "        df2['Embarked'].fillna('S', inplace=True)\n",
    "        \n",
    "        return df2\n",
    "        \n",
    "\n",
    "# creating dummies variables\n",
    "\n",
    "class CategoricalEncoder(BaseEstimator, TransformerMixin):\n",
    "    def __init__(self, features):\n",
    "        self.features=features\n",
    "    def fit(self, df, y=None):\n",
    "        return self\n",
    "    def transform(self, df, y=None):\n",
    "        df2=df.copy()\n",
    "        \n",
    "        for f in self.features:\n",
    "            enc=OneHotEncoder()\n",
    "            enc.fit(df2[f].values.reshape(-1,1))\n",
    "            categories=enc.categories_[0]\n",
    "            array=enc.transform(df2[f].values.reshape(-1,1)).toarray()\n",
    "            for i,cat in enumerate(categories):\n",
    "                df2['{}_{}'.format(f, cat)]=array[:,i]\n",
    "        \n",
    "        df2.drop(columns=self.features, inplace=True)\n",
    "        \n",
    "        return df2\n",
    "\n",
    "\n",
    "# selecting features\n",
    "\n",
    "class FeatureSelector(BaseEstimator, TransformerMixin):\n",
    "    def __init__(self, features):\n",
    "        self.features=features\n",
    "    def fit(self, df, y=None):\n",
    "        return self\n",
    "    def transform(self, df, y=None):\n",
    "        df2=df.copy()\n",
    "        X=df2[self.features].values\n",
    "        return X\n",
    "    "
   ]
  },
  {
   "cell_type": "code",
   "execution_count": 52,
   "metadata": {},
   "outputs": [],
   "source": [
    "df_train_nooutliers=df_train.loc[df_train['Age']<80,:].copy()"
   ]
  },
  {
   "cell_type": "code",
   "execution_count": 53,
   "metadata": {},
   "outputs": [],
   "source": [
    "features_for_ml=['Sex', 'SibSp', 'Parch', 'Age_binned', 'Pclass_1', 'Pclass_2', 'Pclass_3', 'Prefix_Miss.', \\\n",
    "  'Prefix_Mr.', 'Prefix_Mrs.', 'Prefix_Spec.', 'Embarked_C', 'Embarked_Q', 'Embarked_S']"
   ]
  },
  {
   "cell_type": "code",
   "execution_count": 54,
   "metadata": {},
   "outputs": [],
   "source": [
    "pipeline_for_ML=Pipeline([\n",
    "    ('feature_adder', FeatureAdder()),\n",
    "    ('na_filler', NAFiller()),\n",
    "    ('categorica_encoder', CategoricalEncoder(features=['Pclass', 'Prefix', 'Embarked'])),\n",
    "    ('feature_selector', FeatureSelector(features=features_for_ml)),\n",
    "    ('standard_scaler', StandardScaler()),\n",
    "])\n",
    "\n",
    "X=pipeline_for_ML.fit_transform(df_train_nooutliers)\n",
    "y=df_train_nooutliers['Survived'].values"
   ]
  },
  {
   "cell_type": "markdown",
   "metadata": {},
   "source": [
    "## Data training"
   ]
  },
  {
   "cell_type": "code",
   "execution_count": 55,
   "metadata": {},
   "outputs": [],
   "source": [
    "from sklearn.metrics import accuracy_score\n",
    "from sklearn.svm import SVC\n",
    "from sklearn.neighbors import KNeighborsClassifier\n",
    "from sklearn.ensemble import RandomForestClassifier, ExtraTreesClassifier, GradientBoostingClassifier, VotingClassifier\n",
    "from sklearn.tree import DecisionTreeClassifier\n",
    "from sklearn.linear_model import SGDClassifier"
   ]
  },
  {
   "cell_type": "markdown",
   "metadata": {},
   "source": [
    "### Some useful functions"
   ]
  },
  {
   "cell_type": "code",
   "execution_count": 56,
   "metadata": {},
   "outputs": [],
   "source": [
    "def hyperparameter_tuning(estimator, hyperparameter, hp_range, X, y):\n",
    "    kf=KFold(n_splits=5, shuffle=True, random_state=19)\n",
    "    \n",
    "    Mean_train, Mean_test = [], []\n",
    "    Std_train, Std_test = [], []\n",
    "    \n",
    "    dinit=datetime.today()\n",
    "    print('Begining work at {}\\n '.format(dinit.strftime('%Y-%m-%d %H:%M:%S')))\n",
    "    \n",
    "    for j,hp in enumerate(hp_range):\n",
    "        d0=datetime.today()\n",
    "        print('\\tBeginning job {} on {}...'.format(j+1, len(hp_range)))\n",
    "        estimator.__dict__[hyperparameter]=hp\n",
    "        \n",
    "        score_train=[]\n",
    "        score_test=[]\n",
    "        for train_index, test_index in kf.split(X):\n",
    "            X_train, X_test = X[train_index], X[test_index]\n",
    "            y_train, y_test = y[train_index], y[test_index]\n",
    "            estimator.fit(X_train, y_train)\n",
    "            ytrainpred=estimator.predict(X_train)\n",
    "            ytestpred=estimator.predict(X_test)\n",
    "            score_train.append(accuracy_score(y_train, ytrainpred))\n",
    "            score_test.append(accuracy_score(y_test, ytestpred))\n",
    "        \n",
    "        Mean_train.append(np.mean(score_train))\n",
    "        Mean_test.append(np.mean(score_test))\n",
    "        Std_train.append(np.std(score_train))\n",
    "        Std_test.append(np.std(score_test))\n",
    "        \n",
    "        d1=datetime.today()\n",
    "        m,s=(d1-d0).seconds//60, (d1-d0).seconds%60\n",
    "        print('\\t\\t... duration: {}min {}s'.format(m,s))\n",
    "     \n",
    "    dend=datetime.today()\n",
    "    m,s=(dend-dinit).seconds//60, (dend-dinit).seconds%60\n",
    "    print('\\nTotal duration:{}min {}s'.format(m,s))\n",
    "        \n",
    "    fig, ax = plt.subplots(1,1, figsize=(10,5))\n",
    "    \n",
    "    ax.plot(hp_range, Mean_train, color='b', marker='+', label='train')\n",
    "    ax.plot(hp_range, [m-s for (m,s) in zip(Mean_train,Std_train)], color='b', linestyle='--')\n",
    "    ax.plot(hp_range, [m+s for (m,s) in zip(Mean_train,Std_train)], color='b', linestyle='--')\n",
    "    \n",
    "    ax.plot(hp_range, Mean_test, color='r', marker='+', label='test')\n",
    "    ax.plot(hp_range, [m-s for (m,s) in zip(Mean_test,Std_test)], color='r', linestyle='--')\n",
    "    ax.plot(hp_range, [m+s for (m,s) in zip(Mean_test,Std_test)], color='r', linestyle='--')\n",
    "    \n",
    "    ax.set_xlabel('{} range'.format(hyperparameter))\n",
    "    ax.set_ylabel('Score')\n",
    "    ax.legend()\n",
    "    \n",
    "    fig.suptitle('Accuracy score of a {} for different values of {}'.format(estimator.__class__.__name__, hyperparameter))\n",
    "\n",
    "    return Mean_test, Std_test"
   ]
  },
  {
   "cell_type": "markdown",
   "metadata": {},
   "source": [
    "### DecisionTree"
   ]
  },
  {
   "cell_type": "markdown",
   "metadata": {},
   "source": [
    "##### max_depth"
   ]
  },
  {
   "cell_type": "code",
   "execution_count": 57,
   "metadata": {
    "scrolled": true
   },
   "outputs": [
    {
     "name": "stdout",
     "output_type": "stream",
     "text": [
      "Begining work at 2020-10-13 19:28:40\n",
      " \n",
      "\tBeginning job 1 on 9...\n",
      "\t\t... duration: 0min 0s\n",
      "\tBeginning job 2 on 9...\n",
      "\t\t... duration: 0min 0s\n",
      "\tBeginning job 3 on 9...\n",
      "\t\t... duration: 0min 0s\n",
      "\tBeginning job 4 on 9...\n",
      "\t\t... duration: 0min 0s\n",
      "\tBeginning job 5 on 9...\n",
      "\t\t... duration: 0min 0s\n",
      "\tBeginning job 6 on 9...\n",
      "\t\t... duration: 0min 0s\n",
      "\tBeginning job 7 on 9...\n",
      "\t\t... duration: 0min 0s\n",
      "\tBeginning job 8 on 9...\n",
      "\t\t... duration: 0min 0s\n",
      "\tBeginning job 9 on 9...\n",
      "\t\t... duration: 0min 0s\n",
      "\n",
      "Total duration:0min 0s\n"
     ]
    },
    {
     "data": {
      "image/png": "[encoded data removed]",
      "text/plain": [
       "<Figure size 720x360 with 1 Axes>"
      ]
     },
     "metadata": {
      "needs_background": "light"
     },
     "output_type": "display_data"
    }
   ],
   "source": [
    "hp_range=[int(i) for i in np.linspace(2,10, 9)]\n",
    "\n",
    "mean_accuracy_test, std_accuracy_test = hyperparameter_tuning(\n",
    "    estimator=DecisionTreeClassifier(), \n",
    "    hyperparameter='max_depth', \n",
    "    hp_range=hp_range, \n",
    "    X=X, \n",
    "    y=y,\n",
    ")"
   ]
  },
  {
   "cell_type": "code",
   "execution_count": 58,
   "metadata": {},
   "outputs": [],
   "source": [
    "opt_ind=2"
   ]
  },
  {
   "cell_type": "code",
   "execution_count": 59,
   "metadata": {},
   "outputs": [
    {
     "data": {
      "text/plain": [
       "(81.5, 2.3)"
      ]
     },
     "execution_count": 59,
     "metadata": {},
     "output_type": "execute_result"
    }
   ],
   "source": [
    "round(mean_accuracy_test[opt_ind]*100, 1), round(std_accuracy_test[opt_ind]*100, 1)"
   ]
  },
  {
   "cell_type": "code",
   "execution_count": 60,
   "metadata": {
    "scrolled": true
   },
   "outputs": [
    {
     "data": {
      "text/plain": [
       "4"
      ]
     },
     "execution_count": 60,
     "metadata": {},
     "output_type": "execute_result"
    }
   ],
   "source": [
    "best_hp_value=hp_range[opt_ind]\n",
    "best_hp_value"
   ]
  },
  {
   "cell_type": "markdown",
   "metadata": {},
   "source": [
    "##### max_leaf_nodes"
   ]
  },
  {
   "cell_type": "code",
   "execution_count": 61,
   "metadata": {
    "scrolled": true
   },
   "outputs": [
    {
     "name": "stdout",
     "output_type": "stream",
     "text": [
      "Begining work at 2020-10-13 19:28:40\n",
      " \n",
      "\tBeginning job 1 on 20...\n",
      "\t\t... duration: 0min 0s\n",
      "\tBeginning job 2 on 20...\n",
      "\t\t... duration: 0min 0s\n",
      "\tBeginning job 3 on 20...\n",
      "\t\t... duration: 0min 0s\n",
      "\tBeginning job 4 on 20...\n",
      "\t\t... duration: 0min 0s\n",
      "\tBeginning job 5 on 20...\n",
      "\t\t... duration: 0min 0s\n",
      "\tBeginning job 6 on 20...\n",
      "\t\t... duration: 0min 0s\n",
      "\tBeginning job 7 on 20...\n",
      "\t\t... duration: 0min 0s\n",
      "\tBeginning job 8 on 20...\n",
      "\t\t... duration: 0min 0s\n",
      "\tBeginning job 9 on 20...\n",
      "\t\t... duration: 0min 0s\n",
      "\tBeginning job 10 on 20...\n",
      "\t\t... duration: 0min 0s\n",
      "\tBeginning job 11 on 20...\n",
      "\t\t... duration: 0min 0s\n",
      "\tBeginning job 12 on 20...\n",
      "\t\t... duration: 0min 0s\n",
      "\tBeginning job 13 on 20...\n",
      "\t\t... duration: 0min 0s\n",
      "\tBeginning job 14 on 20...\n",
      "\t\t... duration: 0min 0s\n",
      "\tBeginning job 15 on 20...\n",
      "\t\t... duration: 0min 0s\n",
      "\tBeginning job 16 on 20...\n",
      "\t\t... duration: 0min 0s\n",
      "\tBeginning job 17 on 20...\n",
      "\t\t... duration: 0min 0s\n",
      "\tBeginning job 18 on 20...\n",
      "\t\t... duration: 0min 0s\n",
      "\tBeginning job 19 on 20...\n",
      "\t\t... duration: 0min 0s\n",
      "\tBeginning job 20 on 20...\n",
      "\t\t... duration: 0min 0s\n",
      "\n",
      "Total duration:0min 0s\n"
     ]
    },
    {
     "data": {
      "image/png": "[encoded data removed]",
      "text/plain": [
       "<Figure size 720x360 with 1 Axes>"
      ]
     },
     "metadata": {
      "needs_background": "light"
     },
     "output_type": "display_data"
    }
   ],
   "source": [
    "hp_range=[int(i) for i in np.linspace(2,20, 20)]\n",
    "\n",
    "mean_accuracy_test, std_accuracy_test = hyperparameter_tuning(\n",
    "    estimator=DecisionTreeClassifier(), \n",
    "    hyperparameter='max_leaf_nodes', \n",
    "    hp_range=hp_range, \n",
    "    X=X, \n",
    "    y=y,\n",
    ")"
   ]
  },
  {
   "cell_type": "code",
   "execution_count": 62,
   "metadata": {},
   "outputs": [],
   "source": [
    "opt_ind=9"
   ]
  },
  {
   "cell_type": "code",
   "execution_count": 63,
   "metadata": {
    "scrolled": true
   },
   "outputs": [
    {
     "data": {
      "text/plain": [
       "(80.4, 2.8)"
      ]
     },
     "execution_count": 63,
     "metadata": {},
     "output_type": "execute_result"
    }
   ],
   "source": [
    "round(mean_accuracy_test[opt_ind]*100, 1), round(std_accuracy_test[opt_ind]*100, 1)"
   ]
  },
  {
   "cell_type": "code",
   "execution_count": 64,
   "metadata": {
    "scrolled": true
   },
   "outputs": [
    {
     "data": {
      "text/plain": [
       "10"
      ]
     },
     "execution_count": 64,
     "metadata": {},
     "output_type": "execute_result"
    }
   ],
   "source": [
    "best_hp_value=hp_range[opt_ind]\n",
    "best_hp_value"
   ]
  },
  {
   "cell_type": "markdown",
   "metadata": {},
   "source": [
    "### RandomForest"
   ]
  },
  {
   "cell_type": "markdown",
   "metadata": {},
   "source": [
    "##### max_depth"
   ]
  },
  {
   "cell_type": "code",
   "execution_count": 65,
   "metadata": {},
   "outputs": [
    {
     "name": "stdout",
     "output_type": "stream",
     "text": [
      "Begining work at 2020-10-13 19:28:40\n",
      " \n",
      "\tBeginning job 1 on 9...\n",
      "\t\t... duration: 0min 0s\n",
      "\tBeginning job 2 on 9...\n",
      "\t\t... duration: 0min 0s\n",
      "\tBeginning job 3 on 9...\n",
      "\t\t... duration: 0min 0s\n",
      "\tBeginning job 4 on 9...\n",
      "\t\t... duration: 0min 0s\n",
      "\tBeginning job 5 on 9...\n",
      "\t\t... duration: 0min 0s\n",
      "\tBeginning job 6 on 9...\n",
      "\t\t... duration: 0min 0s\n",
      "\tBeginning job 7 on 9...\n",
      "\t\t... duration: 0min 0s\n",
      "\tBeginning job 8 on 9...\n",
      "\t\t... duration: 0min 0s\n",
      "\tBeginning job 9 on 9...\n",
      "\t\t... duration: 0min 0s\n",
      "\n",
      "Total duration:0min 5s\n"
     ]
    },
    {
     "data": {
      "image/png": "[encoded data removed]",
      "text/plain": [
       "<Figure size 720x360 with 1 Axes>"
      ]
     },
     "metadata": {
      "needs_background": "light"
     },
     "output_type": "display_data"
    }
   ],
   "source": [
    "hp_range=[int(i) for i in np.linspace(2,10, 9)]\n",
    "\n",
    "mean_accuracy_test, std_accuracy_test = hyperparameter_tuning(\n",
    "    estimator=RandomForestClassifier(random_state=19), \n",
    "    hyperparameter='max_depth', \n",
    "    hp_range=hp_range, \n",
    "    X=X, \n",
    "    y=y,\n",
    ")"
   ]
  },
  {
   "cell_type": "code",
   "execution_count": 66,
   "metadata": {},
   "outputs": [],
   "source": [
    "opt_ind=3"
   ]
  },
  {
   "cell_type": "code",
   "execution_count": 67,
   "metadata": {
    "scrolled": false
   },
   "outputs": [
    {
     "data": {
      "text/plain": [
       "(81.8, 2.3)"
      ]
     },
     "execution_count": 67,
     "metadata": {},
     "output_type": "execute_result"
    }
   ],
   "source": [
    "round(mean_accuracy_test[opt_ind]*100, 1), round(std_accuracy_test[opt_ind]*100, 1)"
   ]
  },
  {
   "cell_type": "code",
   "execution_count": 68,
   "metadata": {
    "scrolled": true
   },
   "outputs": [
    {
     "data": {
      "text/plain": [
       "5"
      ]
     },
     "execution_count": 68,
     "metadata": {},
     "output_type": "execute_result"
    }
   ],
   "source": [
    "best_hp_value=hp_range[opt_ind]\n",
    "best_hp_value"
   ]
  },
  {
   "cell_type": "markdown",
   "metadata": {},
   "source": [
    "##### max_leaf_nodes"
   ]
  },
  {
   "cell_type": "code",
   "execution_count": 69,
   "metadata": {
    "scrolled": true
   },
   "outputs": [
    {
     "name": "stdout",
     "output_type": "stream",
     "text": [
      "Begining work at 2020-10-13 19:28:46\n",
      " \n",
      "\tBeginning job 1 on 18...\n",
      "\t\t... duration: 0min 0s\n",
      "\tBeginning job 2 on 18...\n",
      "\t\t... duration: 0min 0s\n",
      "\tBeginning job 3 on 18...\n",
      "\t\t... duration: 0min 0s\n",
      "\tBeginning job 4 on 18...\n",
      "\t\t... duration: 0min 0s\n",
      "\tBeginning job 5 on 18...\n",
      "\t\t... duration: 0min 0s\n",
      "\tBeginning job 6 on 18...\n",
      "\t\t... duration: 0min 0s\n",
      "\tBeginning job 7 on 18...\n",
      "\t\t... duration: 0min 0s\n",
      "\tBeginning job 8 on 18...\n",
      "\t\t... duration: 0min 0s\n",
      "\tBeginning job 9 on 18...\n",
      "\t\t... duration: 0min 0s\n",
      "\tBeginning job 10 on 18...\n",
      "\t\t... duration: 0min 0s\n",
      "\tBeginning job 11 on 18...\n",
      "\t\t... duration: 0min 0s\n",
      "\tBeginning job 12 on 18...\n",
      "\t\t... duration: 0min 0s\n",
      "\tBeginning job 13 on 18...\n",
      "\t\t... duration: 0min 0s\n",
      "\tBeginning job 14 on 18...\n",
      "\t\t... duration: 0min 0s\n",
      "\tBeginning job 15 on 18...\n",
      "\t\t... duration: 0min 0s\n",
      "\tBeginning job 16 on 18...\n",
      "\t\t... duration: 0min 0s\n",
      "\tBeginning job 17 on 18...\n",
      "\t\t... duration: 0min 0s\n",
      "\tBeginning job 18 on 18...\n",
      "\t\t... duration: 0min 0s\n",
      "\n",
      "Total duration:0min 11s\n"
     ]
    },
    {
     "data": {
      "image/png": "[encoded data removed]",
      "text/plain": [
       "<Figure size 720x360 with 1 Axes>"
      ]
     },
     "metadata": {
      "needs_background": "light"
     },
     "output_type": "display_data"
    }
   ],
   "source": [
    "hp_range=[int(i) for i in np.linspace(15,32, 18)]\n",
    "\n",
    "mean_accuracy_test, std_accuracy_test = hyperparameter_tuning(\n",
    "    estimator=RandomForestClassifier(random_state=19), \n",
    "    hyperparameter='max_leaf_nodes', \n",
    "    hp_range=hp_range, \n",
    "    X=X, \n",
    "    y=y,\n",
    ")"
   ]
  },
  {
   "cell_type": "code",
   "execution_count": 70,
   "metadata": {},
   "outputs": [],
   "source": [
    "opt_ind=-8"
   ]
  },
  {
   "cell_type": "code",
   "execution_count": 71,
   "metadata": {
    "scrolled": false
   },
   "outputs": [
    {
     "data": {
      "text/plain": [
       "(81.9, 1.3)"
      ]
     },
     "execution_count": 71,
     "metadata": {},
     "output_type": "execute_result"
    }
   ],
   "source": [
    "round(mean_accuracy_test[opt_ind]*100, 1), round(std_accuracy_test[opt_ind]*100, 1)"
   ]
  },
  {
   "cell_type": "code",
   "execution_count": 72,
   "metadata": {
    "scrolled": false
   },
   "outputs": [
    {
     "data": {
      "text/plain": [
       "25"
      ]
     },
     "execution_count": 72,
     "metadata": {},
     "output_type": "execute_result"
    }
   ],
   "source": [
    "best_hp_value=hp_range[opt_ind]\n",
    "best_hp_value"
   ]
  },
  {
   "cell_type": "markdown",
   "metadata": {},
   "source": [
    "### ExtraTreesClassifier"
   ]
  },
  {
   "cell_type": "markdown",
   "metadata": {},
   "source": [
    "##### max_depth"
   ]
  },
  {
   "cell_type": "code",
   "execution_count": 73,
   "metadata": {},
   "outputs": [
    {
     "name": "stdout",
     "output_type": "stream",
     "text": [
      "Begining work at 2020-10-13 19:28:58\n",
      " \n",
      "\tBeginning job 1 on 9...\n",
      "\t\t... duration: 0min 0s\n",
      "\tBeginning job 2 on 9...\n",
      "\t\t... duration: 0min 0s\n",
      "\tBeginning job 3 on 9...\n",
      "\t\t... duration: 0min 0s\n",
      "\tBeginning job 4 on 9...\n",
      "\t\t... duration: 0min 0s\n",
      "\tBeginning job 5 on 9...\n",
      "\t\t... duration: 0min 0s\n",
      "\tBeginning job 6 on 9...\n",
      "\t\t... duration: 0min 0s\n",
      "\tBeginning job 7 on 9...\n",
      "\t\t... duration: 0min 0s\n",
      "\tBeginning job 8 on 9...\n",
      "\t\t... duration: 0min 0s\n",
      "\tBeginning job 9 on 9...\n",
      "\t\t... duration: 0min 0s\n",
      "\n",
      "Total duration:0min 4s\n"
     ]
    },
    {
     "data": {
      "image/png": "[encoded data removed]",
      "text/plain": [
       "<Figure size 720x360 with 1 Axes>"
      ]
     },
     "metadata": {
      "needs_background": "light"
     },
     "output_type": "display_data"
    }
   ],
   "source": [
    "hp_range=[int(i) for i in np.linspace(2,10, 9)]\n",
    "\n",
    "mean_accuracy_test, std_accuracy_test = hyperparameter_tuning(\n",
    "    estimator=ExtraTreesClassifier(random_state=19), \n",
    "    hyperparameter='max_depth', \n",
    "    hp_range=hp_range, \n",
    "    X=X, \n",
    "    y=y,\n",
    ")"
   ]
  },
  {
   "cell_type": "code",
   "execution_count": 74,
   "metadata": {},
   "outputs": [],
   "source": [
    "opt_ind=4"
   ]
  },
  {
   "cell_type": "code",
   "execution_count": 75,
   "metadata": {
    "scrolled": false
   },
   "outputs": [
    {
     "data": {
      "text/plain": [
       "(81.6, 2.0)"
      ]
     },
     "execution_count": 75,
     "metadata": {},
     "output_type": "execute_result"
    }
   ],
   "source": [
    "round(mean_accuracy_test[opt_ind]*100, 1), round(std_accuracy_test[opt_ind]*100, 1)"
   ]
  },
  {
   "cell_type": "code",
   "execution_count": 76,
   "metadata": {
    "scrolled": true
   },
   "outputs": [
    {
     "data": {
      "text/plain": [
       "6"
      ]
     },
     "execution_count": 76,
     "metadata": {},
     "output_type": "execute_result"
    }
   ],
   "source": [
    "best_hp_value=hp_range[opt_ind]\n",
    "best_hp_value"
   ]
  },
  {
   "cell_type": "markdown",
   "metadata": {},
   "source": [
    "##### max_leaf_nodes"
   ]
  },
  {
   "cell_type": "code",
   "execution_count": 77,
   "metadata": {
    "scrolled": true
   },
   "outputs": [
    {
     "name": "stdout",
     "output_type": "stream",
     "text": [
      "Begining work at 2020-10-13 19:29:03\n",
      " \n",
      "\tBeginning job 1 on 13...\n",
      "\t\t... duration: 0min 0s\n",
      "\tBeginning job 2 on 13...\n",
      "\t\t... duration: 0min 0s\n",
      "\tBeginning job 3 on 13...\n",
      "\t\t... duration: 0min 0s\n",
      "\tBeginning job 4 on 13...\n",
      "\t\t... duration: 0min 0s\n",
      "\tBeginning job 5 on 13...\n",
      "\t\t... duration: 0min 0s\n",
      "\tBeginning job 6 on 13...\n",
      "\t\t... duration: 0min 0s\n",
      "\tBeginning job 7 on 13...\n",
      "\t\t... duration: 0min 0s\n",
      "\tBeginning job 8 on 13...\n",
      "\t\t... duration: 0min 0s\n",
      "\tBeginning job 9 on 13...\n",
      "\t\t... duration: 0min 0s\n",
      "\tBeginning job 10 on 13...\n",
      "\t\t... duration: 0min 0s\n",
      "\tBeginning job 11 on 13...\n",
      "\t\t... duration: 0min 0s\n",
      "\tBeginning job 12 on 13...\n",
      "\t\t... duration: 0min 0s\n",
      "\tBeginning job 13 on 13...\n",
      "\t\t... duration: 0min 0s\n",
      "\n",
      "Total duration:0min 6s\n"
     ]
    },
    {
     "data": {
      "image/png": "[encoded data removed]",
      "text/plain": [
       "<Figure size 720x360 with 1 Axes>"
      ]
     },
     "metadata": {
      "needs_background": "light"
     },
     "output_type": "display_data"
    }
   ],
   "source": [
    "hp_range=[int(i) for i in np.linspace(18,31, (31-18))]\n",
    "\n",
    "mean_accuracy_test, std_accuracy_test = hyperparameter_tuning(\n",
    "    estimator=ExtraTreesClassifier(random_state=19), \n",
    "    hyperparameter='max_leaf_nodes', \n",
    "    hp_range=hp_range, \n",
    "    X=X, \n",
    "    y=y,\n",
    ")"
   ]
  },
  {
   "cell_type": "code",
   "execution_count": 78,
   "metadata": {},
   "outputs": [],
   "source": [
    "opt_ind=5"
   ]
  },
  {
   "cell_type": "code",
   "execution_count": 79,
   "metadata": {
    "scrolled": false
   },
   "outputs": [
    {
     "data": {
      "text/plain": [
       "(82.61, 1.1)"
      ]
     },
     "execution_count": 79,
     "metadata": {},
     "output_type": "execute_result"
    }
   ],
   "source": [
    "round(mean_accuracy_test[opt_ind]*100, 2), round(std_accuracy_test[opt_ind]*100, 1)"
   ]
  },
  {
   "cell_type": "code",
   "execution_count": 80,
   "metadata": {
    "scrolled": true
   },
   "outputs": [
    {
     "data": {
      "text/plain": [
       "23"
      ]
     },
     "execution_count": 80,
     "metadata": {},
     "output_type": "execute_result"
    }
   ],
   "source": [
    "best_hp_value=hp_range[opt_ind]\n",
    "best_hp_value"
   ]
  },
  {
   "cell_type": "markdown",
   "metadata": {},
   "source": [
    "### GradientBoosting"
   ]
  },
  {
   "cell_type": "code",
   "execution_count": 81,
   "metadata": {
    "scrolled": true
   },
   "outputs": [
    {
     "name": "stdout",
     "output_type": "stream",
     "text": [
      "Begining work at 2020-10-13 19:29:10\n",
      " \n",
      "\tBeginning job 1 on 28...\n",
      "\t\t... duration: 0min 0s\n",
      "\tBeginning job 2 on 28...\n",
      "\t\t... duration: 0min 0s\n",
      "\tBeginning job 3 on 28...\n",
      "\t\t... duration: 0min 0s\n",
      "\tBeginning job 4 on 28...\n",
      "\t\t... duration: 0min 0s\n",
      "\tBeginning job 5 on 28...\n",
      "\t\t... duration: 0min 0s\n",
      "\tBeginning job 6 on 28...\n",
      "\t\t... duration: 0min 0s\n",
      "\tBeginning job 7 on 28...\n",
      "\t\t... duration: 0min 0s\n",
      "\tBeginning job 8 on 28...\n",
      "\t\t... duration: 0min 0s\n",
      "\tBeginning job 9 on 28...\n",
      "\t\t... duration: 0min 0s\n",
      "\tBeginning job 10 on 28...\n",
      "\t\t... duration: 0min 0s\n",
      "\tBeginning job 11 on 28...\n",
      "\t\t... duration: 0min 0s\n",
      "\tBeginning job 12 on 28...\n",
      "\t\t... duration: 0min 0s\n",
      "\tBeginning job 13 on 28...\n",
      "\t\t... duration: 0min 0s\n",
      "\tBeginning job 14 on 28...\n",
      "\t\t... duration: 0min 0s\n",
      "\tBeginning job 15 on 28...\n",
      "\t\t... duration: 0min 0s\n",
      "\tBeginning job 16 on 28...\n",
      "\t\t... duration: 0min 0s\n",
      "\tBeginning job 17 on 28...\n",
      "\t\t... duration: 0min 0s\n",
      "\tBeginning job 18 on 28...\n",
      "\t\t... duration: 0min 0s\n",
      "\tBeginning job 19 on 28...\n",
      "\t\t... duration: 0min 0s\n",
      "\tBeginning job 20 on 28...\n",
      "\t\t... duration: 0min 0s\n",
      "\tBeginning job 21 on 28...\n",
      "\t\t... duration: 0min 0s\n",
      "\tBeginning job 22 on 28...\n",
      "\t\t... duration: 0min 0s\n",
      "\tBeginning job 23 on 28...\n",
      "\t\t... duration: 0min 0s\n",
      "\tBeginning job 24 on 28...\n",
      "\t\t... duration: 0min 0s\n",
      "\tBeginning job 25 on 28...\n",
      "\t\t... duration: 0min 0s\n",
      "\tBeginning job 26 on 28...\n",
      "\t\t... duration: 0min 0s\n",
      "\tBeginning job 27 on 28...\n",
      "\t\t... duration: 0min 0s\n",
      "\tBeginning job 28 on 28...\n",
      "\t\t... duration: 0min 0s\n",
      "\n",
      "Total duration:0min 8s\n"
     ]
    },
    {
     "data": {
      "image/png": "[encoded data removed]",
      "text/plain": [
       "<Figure size 720x360 with 1 Axes>"
      ]
     },
     "metadata": {
      "needs_background": "light"
     },
     "output_type": "display_data"
    }
   ],
   "source": [
    "hp_range=range(2,30)\n",
    "\n",
    "mean_accuracy_test, std_accuracy_test = hyperparameter_tuning(\n",
    "    estimator=GradientBoostingClassifier(random_state=19), \n",
    "    hyperparameter='max_leaf_nodes', \n",
    "    hp_range=hp_range, \n",
    "    X=X, \n",
    "    y=y,\n",
    ")"
   ]
  },
  {
   "cell_type": "code",
   "execution_count": 82,
   "metadata": {},
   "outputs": [],
   "source": [
    "opt_ind=3"
   ]
  },
  {
   "cell_type": "code",
   "execution_count": 83,
   "metadata": {
    "scrolled": false
   },
   "outputs": [
    {
     "data": {
      "text/plain": [
       "(81.9, 3.3)"
      ]
     },
     "execution_count": 83,
     "metadata": {},
     "output_type": "execute_result"
    }
   ],
   "source": [
    "round(mean_accuracy_test[opt_ind]*100, 1), round(std_accuracy_test[opt_ind]*100, 1)"
   ]
  },
  {
   "cell_type": "code",
   "execution_count": 84,
   "metadata": {
    "scrolled": true
   },
   "outputs": [
    {
     "data": {
      "text/plain": [
       "5"
      ]
     },
     "execution_count": 84,
     "metadata": {},
     "output_type": "execute_result"
    }
   ],
   "source": [
    "best_hp_value=hp_range[opt_ind]\n",
    "best_hp_value"
   ]
  },
  {
   "cell_type": "markdown",
   "metadata": {},
   "source": [
    "### KNN"
   ]
  },
  {
   "cell_type": "code",
   "execution_count": 85,
   "metadata": {
    "scrolled": true
   },
   "outputs": [
    {
     "name": "stdout",
     "output_type": "stream",
     "text": [
      "Begining work at 2020-10-13 19:29:18\n",
      " \n",
      "\tBeginning job 1 on 28...\n",
      "\t\t... duration: 0min 0s\n",
      "\tBeginning job 2 on 28...\n",
      "\t\t... duration: 0min 0s\n",
      "\tBeginning job 3 on 28...\n",
      "\t\t... duration: 0min 0s\n",
      "\tBeginning job 4 on 28...\n",
      "\t\t... duration: 0min 0s\n",
      "\tBeginning job 5 on 28...\n",
      "\t\t... duration: 0min 0s\n",
      "\tBeginning job 6 on 28...\n",
      "\t\t... duration: 0min 0s\n",
      "\tBeginning job 7 on 28...\n",
      "\t\t... duration: 0min 0s\n",
      "\tBeginning job 8 on 28...\n",
      "\t\t... duration: 0min 0s\n",
      "\tBeginning job 9 on 28...\n",
      "\t\t... duration: 0min 0s\n",
      "\tBeginning job 10 on 28...\n",
      "\t\t... duration: 0min 0s\n",
      "\tBeginning job 11 on 28...\n",
      "\t\t... duration: 0min 0s\n",
      "\tBeginning job 12 on 28...\n",
      "\t\t... duration: 0min 0s\n",
      "\tBeginning job 13 on 28...\n",
      "\t\t... duration: 0min 0s\n",
      "\tBeginning job 14 on 28...\n",
      "\t\t... duration: 0min 0s\n",
      "\tBeginning job 15 on 28...\n",
      "\t\t... duration: 0min 0s\n",
      "\tBeginning job 16 on 28...\n",
      "\t\t... duration: 0min 0s\n",
      "\tBeginning job 17 on 28...\n",
      "\t\t... duration: 0min 0s\n",
      "\tBeginning job 18 on 28...\n",
      "\t\t... duration: 0min 0s\n",
      "\tBeginning job 19 on 28...\n",
      "\t\t... duration: 0min 0s\n",
      "\tBeginning job 20 on 28...\n",
      "\t\t... duration: 0min 0s\n",
      "\tBeginning job 21 on 28...\n",
      "\t\t... duration: 0min 0s\n",
      "\tBeginning job 22 on 28...\n",
      "\t\t... duration: 0min 0s\n",
      "\tBeginning job 23 on 28...\n",
      "\t\t... duration: 0min 0s\n",
      "\tBeginning job 24 on 28...\n",
      "\t\t... duration: 0min 0s\n",
      "\tBeginning job 25 on 28...\n",
      "\t\t... duration: 0min 0s\n",
      "\tBeginning job 26 on 28...\n",
      "\t\t... duration: 0min 0s\n",
      "\tBeginning job 27 on 28...\n",
      "\t\t... duration: 0min 0s\n",
      "\tBeginning job 28 on 28...\n",
      "\t\t... duration: 0min 0s\n",
      "\n",
      "Total duration:0min 3s\n"
     ]
    },
    {
     "data": {
      "image/png": "[encoded data removed]",
      "text/plain": [
       "<Figure size 720x360 with 1 Axes>"
      ]
     },
     "metadata": {
      "needs_background": "light"
     },
     "output_type": "display_data"
    }
   ],
   "source": [
    "hp_range=range(2,30)\n",
    "\n",
    "mean_accuracy_test, std_accuracy_test = hyperparameter_tuning(\n",
    "    estimator=KNeighborsClassifier(), \n",
    "    hyperparameter='n_neighbors', \n",
    "    hp_range=hp_range, \n",
    "    X=X, \n",
    "    y=y,\n",
    ")"
   ]
  },
  {
   "cell_type": "code",
   "execution_count": 86,
   "metadata": {},
   "outputs": [],
   "source": [
    "opt_ind=1"
   ]
  },
  {
   "cell_type": "code",
   "execution_count": 87,
   "metadata": {
    "scrolled": false
   },
   "outputs": [
    {
     "data": {
      "text/plain": [
       "(79.8, 2.4)"
      ]
     },
     "execution_count": 87,
     "metadata": {},
     "output_type": "execute_result"
    }
   ],
   "source": [
    "round(mean_accuracy_test[opt_ind]*100, 1), round(std_accuracy_test[opt_ind]*100, 1)"
   ]
  },
  {
   "cell_type": "code",
   "execution_count": 88,
   "metadata": {
    "scrolled": true
   },
   "outputs": [
    {
     "data": {
      "text/plain": [
       "3"
      ]
     },
     "execution_count": 88,
     "metadata": {},
     "output_type": "execute_result"
    }
   ],
   "source": [
    "best_hp_value=hp_range[opt_ind]\n",
    "best_hp_value"
   ]
  },
  {
   "cell_type": "markdown",
   "metadata": {},
   "source": [
    "### SGDClassifier"
   ]
  },
  {
   "cell_type": "code",
   "execution_count": 89,
   "metadata": {
    "scrolled": true
   },
   "outputs": [
    {
     "name": "stdout",
     "output_type": "stream",
     "text": [
      "Begining work at 2020-10-13 19:29:22\n",
      " \n",
      "\tBeginning job 1 on 20...\n",
      "\t\t... duration: 0min 0s\n",
      "\tBeginning job 2 on 20...\n",
      "\t\t... duration: 0min 0s\n",
      "\tBeginning job 3 on 20...\n",
      "\t\t... duration: 0min 0s\n",
      "\tBeginning job 4 on 20...\n",
      "\t\t... duration: 0min 0s\n",
      "\tBeginning job 5 on 20...\n",
      "\t\t... duration: 0min 0s\n",
      "\tBeginning job 6 on 20...\n",
      "\t\t... duration: 0min 0s\n",
      "\tBeginning job 7 on 20...\n",
      "\t\t... duration: 0min 0s\n",
      "\tBeginning job 8 on 20...\n",
      "\t\t... duration: 0min 0s\n",
      "\tBeginning job 9 on 20...\n",
      "\t\t... duration: 0min 0s\n",
      "\tBeginning job 10 on 20...\n",
      "\t\t... duration: 0min 0s\n",
      "\tBeginning job 11 on 20...\n",
      "\t\t... duration: 0min 0s\n",
      "\tBeginning job 12 on 20...\n",
      "\t\t... duration: 0min 0s\n",
      "\tBeginning job 13 on 20...\n",
      "\t\t... duration: 0min 0s\n",
      "\tBeginning job 14 on 20...\n",
      "\t\t... duration: 0min 0s\n",
      "\tBeginning job 15 on 20...\n",
      "\t\t... duration: 0min 0s\n",
      "\tBeginning job 16 on 20...\n",
      "\t\t... duration: 0min 0s\n",
      "\tBeginning job 17 on 20...\n",
      "\t\t... duration: 0min 0s\n",
      "\tBeginning job 18 on 20...\n",
      "\t\t... duration: 0min 0s\n",
      "\tBeginning job 19 on 20...\n",
      "\t\t... duration: 0min 0s\n",
      "\tBeginning job 20 on 20...\n",
      "\t\t... duration: 0min 0s\n",
      "\n",
      "Total duration:0min 0s\n"
     ]
    },
    {
     "data": {
      "image/png": "[encoded data removed]",
      "text/plain": [
       "<Figure size 720x360 with 1 Axes>"
      ]
     },
     "metadata": {
      "needs_background": "light"
     },
     "output_type": "display_data"
    }
   ],
   "source": [
    "hp_range=np.linspace(0.001, 0.01, 20)\n",
    "\n",
    "mean_accuracy_test, std_accuracy_test = hyperparameter_tuning(\n",
    "    estimator=SGDClassifier(loss='log', random_state=19), \n",
    "    hyperparameter='alpha', \n",
    "    hp_range=hp_range, \n",
    "    X=X, \n",
    "    y=y,\n",
    ")"
   ]
  },
  {
   "cell_type": "code",
   "execution_count": 90,
   "metadata": {},
   "outputs": [],
   "source": [
    "opt_ind=-9"
   ]
  },
  {
   "cell_type": "code",
   "execution_count": 91,
   "metadata": {
    "scrolled": false
   },
   "outputs": [
    {
     "data": {
      "text/plain": [
       "(81.6, 2.2)"
      ]
     },
     "execution_count": 91,
     "metadata": {},
     "output_type": "execute_result"
    }
   ],
   "source": [
    "round(mean_accuracy_test[opt_ind]*100, 1), round(std_accuracy_test[opt_ind]*100, 1)"
   ]
  },
  {
   "cell_type": "code",
   "execution_count": 92,
   "metadata": {
    "scrolled": false
   },
   "outputs": [
    {
     "data": {
      "text/plain": [
       "0.0062105263157894745"
      ]
     },
     "execution_count": 92,
     "metadata": {},
     "output_type": "execute_result"
    }
   ],
   "source": [
    "best_hp_value=hp_range[opt_ind]\n",
    "best_hp_value"
   ]
  },
  {
   "cell_type": "markdown",
   "metadata": {},
   "source": [
    "### SVC"
   ]
  },
  {
   "cell_type": "code",
   "execution_count": 93,
   "metadata": {
    "scrolled": true
   },
   "outputs": [
    {
     "name": "stdout",
     "output_type": "stream",
     "text": [
      "Begining work at 2020-10-13 19:29:23\n",
      " \n",
      "\tBeginning job 1 on 20...\n",
      "\t\t... duration: 0min 0s\n",
      "\tBeginning job 2 on 20...\n",
      "\t\t... duration: 0min 0s\n",
      "\tBeginning job 3 on 20...\n",
      "\t\t... duration: 0min 0s\n",
      "\tBeginning job 4 on 20...\n",
      "\t\t... duration: 0min 0s\n",
      "\tBeginning job 5 on 20...\n",
      "\t\t... duration: 0min 0s\n",
      "\tBeginning job 6 on 20...\n",
      "\t\t... duration: 0min 0s\n",
      "\tBeginning job 7 on 20...\n",
      "\t\t... duration: 0min 0s\n",
      "\tBeginning job 8 on 20...\n",
      "\t\t... duration: 0min 0s\n",
      "\tBeginning job 9 on 20...\n",
      "\t\t... duration: 0min 0s\n",
      "\tBeginning job 10 on 20...\n",
      "\t\t... duration: 0min 0s\n",
      "\tBeginning job 11 on 20...\n",
      "\t\t... duration: 0min 0s\n",
      "\tBeginning job 12 on 20...\n",
      "\t\t... duration: 0min 0s\n",
      "\tBeginning job 13 on 20...\n",
      "\t\t... duration: 0min 0s\n",
      "\tBeginning job 14 on 20...\n",
      "\t\t... duration: 0min 0s\n",
      "\tBeginning job 15 on 20...\n",
      "\t\t... duration: 0min 0s\n",
      "\tBeginning job 16 on 20...\n",
      "\t\t... duration: 0min 0s\n",
      "\tBeginning job 17 on 20...\n",
      "\t\t... duration: 0min 0s\n",
      "\tBeginning job 18 on 20...\n",
      "\t\t... duration: 0min 0s\n",
      "\tBeginning job 19 on 20...\n",
      "\t\t... duration: 0min 0s\n",
      "\tBeginning job 20 on 20...\n",
      "\t\t... duration: 0min 0s\n",
      "\n",
      "Total duration:0min 3s\n"
     ]
    },
    {
     "data": {
      "image/png": "[encoded data removed]",
      "text/plain": [
       "<Figure size 720x360 with 1 Axes>"
      ]
     },
     "metadata": {
      "needs_background": "light"
     },
     "output_type": "display_data"
    }
   ],
   "source": [
    "hp_range=np.linspace(0.001, 1, 20)\n",
    "\n",
    "mean_accuracy_test, std_accuracy_test = hyperparameter_tuning(\n",
    "    estimator=SVC(probability=True, random_state=19), \n",
    "    hyperparameter='C', \n",
    "    hp_range=hp_range, \n",
    "    X=X, \n",
    "    y=y,\n",
    ")"
   ]
  },
  {
   "cell_type": "code",
   "execution_count": 94,
   "metadata": {},
   "outputs": [],
   "source": [
    "opt_ind=6"
   ]
  },
  {
   "cell_type": "code",
   "execution_count": 95,
   "metadata": {
    "scrolled": false
   },
   "outputs": [
    {
     "data": {
      "text/plain": [
       "(81.9, 1.9)"
      ]
     },
     "execution_count": 95,
     "metadata": {},
     "output_type": "execute_result"
    }
   ],
   "source": [
    "round(mean_accuracy_test[opt_ind]*100, 1), round(std_accuracy_test[opt_ind]*100, 1)"
   ]
  },
  {
   "cell_type": "code",
   "execution_count": 96,
   "metadata": {
    "scrolled": false
   },
   "outputs": [
    {
     "data": {
      "text/plain": [
       "0.3164736842105263"
      ]
     },
     "execution_count": 96,
     "metadata": {},
     "output_type": "execute_result"
    }
   ],
   "source": [
    "best_hp_value=hp_range[opt_ind]\n",
    "best_hp_value"
   ]
  },
  {
   "cell_type": "markdown",
   "metadata": {},
   "source": [
    "### Voting classifier"
   ]
  },
  {
   "cell_type": "code",
   "execution_count": 97,
   "metadata": {},
   "outputs": [],
   "source": [
    "ext=ExtraTreesClassifier(max_leaf_nodes=23, random_state=19)\n",
    "knn=KNeighborsClassifier(n_neighbors=3)\n",
    "sgdc=SGDClassifier(alpha=0.006, loss='log', random_state=19)\n",
    "svc=SVC(C=0.32, probability=True, random_state=19)\n",
    "\n",
    "voting_clf=VotingClassifier(estimators=[('ext', ext), ('knn', knn), ('sgdc', sgdc), ('svc', svc)])"
   ]
  },
  {
   "cell_type": "code",
   "execution_count": 98,
   "metadata": {
    "scrolled": true
   },
   "outputs": [
    {
     "name": "stdout",
     "output_type": "stream",
     "text": [
      "Begining work at 2020-10-13 19:29:27\n",
      " \n",
      "\tBeginning job 1 on 2...\n",
      "\t\t... duration: 0min 0s\n",
      "\tBeginning job 2 on 2...\n",
      "\t\t... duration: 0min 0s\n",
      "\n",
      "Total duration:0min 1s\n"
     ]
    },
    {
     "data": {
      "image/png": "[encoded data removed]",
      "text/plain": [
       "<Figure size 720x360 with 1 Axes>"
      ]
     },
     "metadata": {
      "needs_background": "light"
     },
     "output_type": "display_data"
    }
   ],
   "source": [
    "hp_range=['soft', 'hard']\n",
    "\n",
    "mean_accuracy_test, std_accuracy_test = hyperparameter_tuning(\n",
    "    estimator=voting_clf, \n",
    "    hyperparameter='voting', \n",
    "    hp_range=hp_range, \n",
    "    X=X, \n",
    "    y=y,\n",
    ")"
   ]
  },
  {
   "cell_type": "code",
   "execution_count": 99,
   "metadata": {},
   "outputs": [],
   "source": [
    "opt_ind=1"
   ]
  },
  {
   "cell_type": "code",
   "execution_count": 100,
   "metadata": {
    "scrolled": false
   },
   "outputs": [
    {
     "data": {
      "text/plain": [
       "(82.61, 1.7)"
      ]
     },
     "execution_count": 100,
     "metadata": {},
     "output_type": "execute_result"
    }
   ],
   "source": [
    "round(mean_accuracy_test[opt_ind]*100, 2), round(std_accuracy_test[opt_ind]*100, 1)"
   ]
  },
  {
   "cell_type": "code",
   "execution_count": 101,
   "metadata": {
    "scrolled": false
   },
   "outputs": [
    {
     "data": {
      "text/plain": [
       "'hard'"
      ]
     },
     "execution_count": 101,
     "metadata": {},
     "output_type": "execute_result"
    }
   ],
   "source": [
    "best_hp_value=hp_range[opt_ind]\n",
    "best_hp_value"
   ]
  },
  {
   "cell_type": "markdown",
   "metadata": {},
   "source": [
    "### Best estimator"
   ]
  },
  {
   "cell_type": "markdown",
   "metadata": {},
   "source": [
    "| Estimator (hp)| Best_hp_value | Accuracy_mean | Accuracy_std\n",
    "| :- | -: | :-: | :-:\n",
    "| DecisionTree | max_depth = 4 | 81.5 | 2.3\n",
    "RandomForest | max_leaf_nodes = 25 | 81.9 | 1.3\n",
    "ExtraTrees | max_leaf_nodes = 23 | 82.6 | 1.1\n",
    "GradientBoosting | max_leaf_nodes = 5 | 81.9 | 3.3\n",
    "KNN | n_neighbors = 3 | 79.8 | 2.4\n",
    "SGDC | alpha = 0.006 | 81.6 | 2.2\n",
    "SVC | C = 0.32 | 81.9 | 1.9\n",
    "Voting Clf | voting = hard | 82.6 | 1.7"
   ]
  },
  {
   "cell_type": "markdown",
   "metadata": {},
   "source": [
    "The best estimator is the ExtraTrees with max_leaf_nodes = 23"
   ]
  },
  {
   "cell_type": "code",
   "execution_count": 102,
   "metadata": {},
   "outputs": [
    {
     "data": {
      "text/plain": [
       "ExtraTreesClassifier(max_leaf_nodes=23, random_state=19)"
      ]
     },
     "execution_count": 102,
     "metadata": {},
     "output_type": "execute_result"
    }
   ],
   "source": [
    "ext=ExtraTreesClassifier(max_leaf_nodes=23, random_state=19)\n",
    "ext.fit(X,y)"
   ]
  },
  {
   "cell_type": "markdown",
   "metadata": {},
   "source": [
    "## Prediction"
   ]
  },
  {
   "cell_type": "code",
   "execution_count": 103,
   "metadata": {},
   "outputs": [],
   "source": [
    "df_test=pd.read_csv('./titanic/test.csv')"
   ]
  },
  {
   "cell_type": "code",
   "execution_count": 104,
   "metadata": {},
   "outputs": [],
   "source": [
    "X_test=pipeline_for_ML.transform(df_test)"
   ]
  },
  {
   "cell_type": "code",
   "execution_count": 105,
   "metadata": {},
   "outputs": [],
   "source": [
    "y_testpred=ext.predict(X_test)"
   ]
  },
  {
   "cell_type": "code",
   "execution_count": 106,
   "metadata": {},
   "outputs": [
    {
     "data": {
      "text/html": [
       "<div>\n",
       "<style scoped>\n",
       "    .dataframe tbody tr th:only-of-type {\n",
       "        vertical-align: middle;\n",
       "    }\n",
       "\n",
       "    .dataframe tbody tr th {\n",
       "        vertical-align: top;\n",
       "    }\n",
       "\n",
       "    .dataframe thead th {\n",
       "        text-align: right;\n",
       "    }\n",
       "</style>\n",
       "<table border=\"1\" class=\"dataframe\">\n",
       "  <thead>\n",
       "    <tr style=\"text-align: right;\">\n",
       "      <th></th>\n",
       "      <th>Survived</th>\n",
       "    </tr>\n",
       "    <tr>\n",
       "      <th>PassengerId</th>\n",
       "      <th></th>\n",
       "    </tr>\n",
       "  </thead>\n",
       "  <tbody>\n",
       "    <tr>\n",
       "      <th>892</th>\n",
       "      <td>0</td>\n",
       "    </tr>\n",
       "    <tr>\n",
       "      <th>893</th>\n",
       "      <td>0</td>\n",
       "    </tr>\n",
       "    <tr>\n",
       "      <th>894</th>\n",
       "      <td>0</td>\n",
       "    </tr>\n",
       "    <tr>\n",
       "      <th>895</th>\n",
       "      <td>0</td>\n",
       "    </tr>\n",
       "    <tr>\n",
       "      <th>896</th>\n",
       "      <td>1</td>\n",
       "    </tr>\n",
       "    <tr>\n",
       "      <th>...</th>\n",
       "      <td>...</td>\n",
       "    </tr>\n",
       "    <tr>\n",
       "      <th>1305</th>\n",
       "      <td>0</td>\n",
       "    </tr>\n",
       "    <tr>\n",
       "      <th>1306</th>\n",
       "      <td>1</td>\n",
       "    </tr>\n",
       "    <tr>\n",
       "      <th>1307</th>\n",
       "      <td>0</td>\n",
       "    </tr>\n",
       "    <tr>\n",
       "      <th>1308</th>\n",
       "      <td>0</td>\n",
       "    </tr>\n",
       "    <tr>\n",
       "      <th>1309</th>\n",
       "      <td>1</td>\n",
       "    </tr>\n",
       "  </tbody>\n",
       "</table>\n",
       "<p>418 rows × 1 columns</p>\n",
       "</div>"
      ],
      "text/plain": [
       "             Survived\n",
       "PassengerId          \n",
       "892                 0\n",
       "893                 0\n",
       "894                 0\n",
       "895                 0\n",
       "896                 1\n",
       "...               ...\n",
       "1305                0\n",
       "1306                1\n",
       "1307                0\n",
       "1308                0\n",
       "1309                1\n",
       "\n",
       "[418 rows x 1 columns]"
      ]
     },
     "execution_count": 106,
     "metadata": {},
     "output_type": "execute_result"
    }
   ],
   "source": [
    "df_ypred=df_test[['PassengerId']].set_index('PassengerId')\n",
    "df_ypred['Survived']=y_testpred\n",
    "df_ypred"
   ]
  },
  {
   "cell_type": "code",
   "execution_count": 107,
   "metadata": {},
   "outputs": [],
   "source": [
    "df_ypred.to_csv('Submission.csv')"
   ]
  }
 ],
 "metadata": {
  "kernelspec": {
   "display_name": "Python 3",
   "language": "python",
   "name": "python3"
  },
  "language_info": {
   "codemirror_mode": {
    "name": "ipython",
    "version": 3
   },
   "file_extension": ".py",
   "mimetype": "text/x-python",
   "name": "python",
   "nbconvert_exporter": "python",
   "pygments_lexer": "ipython3",
   "version": "3.8.2"
  }
 },
 "nbformat": 4,
 "nbformat_minor": 4
}
